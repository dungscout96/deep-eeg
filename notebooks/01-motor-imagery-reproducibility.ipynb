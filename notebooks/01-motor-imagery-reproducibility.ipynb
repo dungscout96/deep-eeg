{
 "cells": [
  {
   "cell_type": "markdown",
   "id": "2f47416d-8ada-44ee-92be-9491bfecb748",
   "metadata": {},
   "source": [
    "# Motor Imagery Baseline\n",
    "\n",
    "Using the actual movement of left and right fist, explore the decoding performance under different EEG-only feature transforms. Note, we use Stratified K-Fold validation instead of leave-one-subject out."
   ]
  },
  {
   "cell_type": "code",
   "execution_count": 1,
   "id": "07527a46-0e18-4c77-a992-2f97b6153910",
   "metadata": {},
   "outputs": [
    {
     "name": "stderr",
     "output_type": "stream",
     "text": [
      "Matplotlib created a temporary config/cache directory at /tmp/matplotlib-154i0no7 because the default path (/home/anp054/.config/matplotlib) is not a writable directory; it is highly recommended to set the MPLCONFIGDIR environment variable to a writable directory, in particular to speed up the import of Matplotlib and to better support multiprocessing.\n"
     ]
    }
   ],
   "source": [
    "import sys\n",
    "sys.path.insert(0, \"../\")\n",
    "import matplotlib.pyplot as plt\n",
    "import numpy as np\n",
    "import os\n",
    "from tqdm import tqdm\n",
    "\n",
    "from libs.dataloaders import motor\n",
    "\n",
    "from sklearn.pipeline import Pipeline\n",
    "from sklearn.model_selection import StratifiedKFold, cross_val_score\n",
    "\n",
    "from sklearn.decomposition import PCA\n",
    "from sklearn.discriminant_analysis import LinearDiscriminantAnalysis\n",
    "from mne.decoding import CSP"
   ]
  },
  {
   "cell_type": "markdown",
   "id": "242f2c3b-5b90-42ec-a714-428f790dd118",
   "metadata": {},
   "source": [
    "## Average Power\n",
    "Explore impact of Average Power features"
   ]
  },
  {
   "cell_type": "code",
   "execution_count": 2,
   "id": "84cf26b8-10e9-4186-8c9b-b992168da20f",
   "metadata": {},
   "outputs": [
    {
     "name": "stderr",
     "output_type": "stream",
     "text": [
      "100%|██████████| 327/327 [00:08<00:00, 39.56it/s]\n",
      "100%|██████████| 327/327 [03:44<00:00,  1.46it/s]\n",
      "100%|██████████| 3106/3106 [00:00<00:00, 4189.52it/s]"
     ]
    },
    {
     "name": "stdout",
     "output_type": "stream",
     "text": [
      "X shape (S F): (3106, 64)\n",
      "Y counts: (array([0, 1]), array([1553, 1553]))\n"
     ]
    },
    {
     "name": "stderr",
     "output_type": "stream",
     "text": [
      "\n"
     ]
    }
   ],
   "source": [
    "dataset = motor.MotorDataset(\n",
    "    y_keys=[\"real-left-fist\", \"real-right-fist\"],\n",
    "    x_params={\n",
    "        \"feature\": \"AvgFreqPower\", \n",
    "        \"window\": -1,\n",
    "        \"prestim\": 1, \n",
    "        \"postim\": 2, \n",
    "    },\n",
    "    seed=3\n",
    ")\n",
    "X = np.array(dataset[:][0]) # S T F\n",
    "y = np.array(dataset[:][1]) # S\n",
    "\n",
    "X = np.squeeze(np.transpose(X, (0,2,1)))\n",
    "print(\"X shape (S F):\", X.shape)\n",
    "print(\"Y counts:\", np.unique(y, return_counts=True))"
   ]
  },
  {
   "cell_type": "code",
   "execution_count": 3,
   "id": "04b3e428-5fef-4c20-b1bd-fd3f4d2960f5",
   "metadata": {},
   "outputs": [
    {
     "name": "stdout",
     "output_type": "stream",
     "text": [
      "PCA-LDA accuracy: 0.509\n"
     ]
    }
   ],
   "source": [
    "pca = PCA(n_components=30)\n",
    "lda = LinearDiscriminantAnalysis()\n",
    "cv = StratifiedKFold(5, shuffle=True, random_state=42)\n",
    "clf = Pipeline([('PCA', pca), ('LDA', lda)])\n",
    "scores = cross_val_score(clf, X, y, cv=cv)\n",
    "\n",
    "print(\"PCA-LDA accuracy: %0.3f\" % np.mean(scores))"
   ]
  },
  {
   "cell_type": "markdown",
   "id": "51292bdc-670d-418f-aa69-ce6fcc82ddfc",
   "metadata": {},
   "source": [
    "## Spectral Power Variance\n",
    "Explore impact of CSP features, a techinque that maximizes the _variance_ betweeen two windows."
   ]
  },
  {
   "cell_type": "code",
   "execution_count": 4,
   "id": "e26f06a0-8a76-4607-97e5-f45a6cf6143b",
   "metadata": {},
   "outputs": [
    {
     "name": "stderr",
     "output_type": "stream",
     "text": [
      "100%|██████████| 327/327 [03:29<00:00,  1.56it/s]\n",
      "100%|██████████| 3106/3106 [00:00<00:00, 45012.62it/s]"
     ]
    },
    {
     "name": "stdout",
     "output_type": "stream",
     "text": [
      "X shape (S F): (3106, 64, 160)\n",
      "Y counts: (array([0, 1]), array([1553, 1553]))\n"
     ]
    },
    {
     "name": "stderr",
     "output_type": "stream",
     "text": [
      "\n"
     ]
    }
   ],
   "source": [
    "x_params={\n",
    "    \"feature\": \"FreqPower\", # CSP requires time axis\n",
    "    \"window\": -1,\n",
    "    \"prestim\": 1, \n",
    "    \"postim\": 2, \n",
    "}\n",
    "dataset.set_x_transformer(x_params)\n",
    "X = np.array(dataset[:][0]) # S slice T F\n",
    "y = np.array(dataset[:][1]) # S\n",
    "X = np.squeeze(np.transpose(X, (0,2,3,1)))\n",
    "print(\"X shape (S F):\", X.shape)\n",
    "print(\"Y counts:\", np.unique(y, return_counts=True))"
   ]
  },
  {
   "cell_type": "code",
   "execution_count": 5,
   "id": "f59d93d1-620c-4a25-be89-0435ef0fa100",
   "metadata": {},
   "outputs": [
    {
     "name": "stdout",
     "output_type": "stream",
     "text": [
      "Computing rank from data with rank=None\n",
      "    Using tolerance 5.5e+02 (2.2e-16 eps * 64 dim * 3.9e+16  max singular value)\n",
      "    Estimated rank (mag): 64\n",
      "    MAG: rank 64 computed from 64 data channels with 0 projectors\n",
      "Reducing data rank from 64 -> 64\n",
      "Estimating covariance using EMPIRICAL\n",
      "Done.\n",
      "Computing rank from data with rank=None\n",
      "    Using tolerance 5.6e+02 (2.2e-16 eps * 64 dim * 3.9e+16  max singular value)\n",
      "    Estimated rank (mag): 64\n",
      "    MAG: rank 64 computed from 64 data channels with 0 projectors\n",
      "Reducing data rank from 64 -> 64\n",
      "Estimating covariance using EMPIRICAL\n",
      "Done.\n",
      "Computing rank from data with rank=None\n",
      "    Using tolerance 5.6e+02 (2.2e-16 eps * 64 dim * 4e+16  max singular value)\n",
      "    Estimated rank (mag): 64\n",
      "    MAG: rank 64 computed from 64 data channels with 0 projectors\n",
      "Reducing data rank from 64 -> 64\n",
      "Estimating covariance using EMPIRICAL\n",
      "Done.\n",
      "Computing rank from data with rank=None\n",
      "    Using tolerance 5.6e+02 (2.2e-16 eps * 64 dim * 3.9e+16  max singular value)\n",
      "    Estimated rank (mag): 64\n",
      "    MAG: rank 64 computed from 64 data channels with 0 projectors\n",
      "Reducing data rank from 64 -> 64\n",
      "Estimating covariance using EMPIRICAL\n",
      "Done.\n",
      "Computing rank from data with rank=None\n",
      "    Using tolerance 5.5e+02 (2.2e-16 eps * 64 dim * 3.8e+16  max singular value)\n",
      "    Estimated rank (mag): 64\n",
      "    MAG: rank 64 computed from 64 data channels with 0 projectors\n",
      "Reducing data rank from 64 -> 64\n",
      "Estimating covariance using EMPIRICAL\n",
      "Done.\n",
      "Computing rank from data with rank=None\n",
      "    Using tolerance 5.6e+02 (2.2e-16 eps * 64 dim * 3.9e+16  max singular value)\n",
      "    Estimated rank (mag): 64\n",
      "    MAG: rank 64 computed from 64 data channels with 0 projectors\n",
      "Reducing data rank from 64 -> 64\n",
      "Estimating covariance using EMPIRICAL\n",
      "Done.\n",
      "Computing rank from data with rank=None\n",
      "    Using tolerance 5.5e+02 (2.2e-16 eps * 64 dim * 3.9e+16  max singular value)\n",
      "    Estimated rank (mag): 64\n",
      "    MAG: rank 64 computed from 64 data channels with 0 projectors\n",
      "Reducing data rank from 64 -> 64\n",
      "Estimating covariance using EMPIRICAL\n",
      "Done.\n",
      "Computing rank from data with rank=None\n",
      "    Using tolerance 5.5e+02 (2.2e-16 eps * 64 dim * 3.9e+16  max singular value)\n",
      "    Estimated rank (mag): 64\n",
      "    MAG: rank 64 computed from 64 data channels with 0 projectors\n",
      "Reducing data rank from 64 -> 64\n",
      "Estimating covariance using EMPIRICAL\n",
      "Done.\n",
      "Computing rank from data with rank=None\n",
      "    Using tolerance 5.6e+02 (2.2e-16 eps * 64 dim * 3.9e+16  max singular value)\n",
      "    Estimated rank (mag): 64\n",
      "    MAG: rank 64 computed from 64 data channels with 0 projectors\n",
      "Reducing data rank from 64 -> 64\n",
      "Estimating covariance using EMPIRICAL\n",
      "Done.\n",
      "Computing rank from data with rank=None\n",
      "    Using tolerance 5.7e+02 (2.2e-16 eps * 64 dim * 4e+16  max singular value)\n",
      "    Estimated rank (mag): 64\n",
      "    MAG: rank 64 computed from 64 data channels with 0 projectors\n",
      "Reducing data rank from 64 -> 64\n",
      "Estimating covariance using EMPIRICAL\n",
      "Done.\n",
      "CSP-LDA accuracy: 0.592\n"
     ]
    }
   ],
   "source": [
    "csp = CSP(n_components=4, reg=None, log=True, norm_trace=False)\n",
    "lda = LinearDiscriminantAnalysis()\n",
    "cv = StratifiedKFold(5, shuffle=True, random_state=42)\n",
    "clf = Pipeline([('CSP', csp), ('LDA', lda)])\n",
    "scores = cross_val_score(clf, X, y, cv=cv)\n",
    "print(\"CSP-LDA accuracy: %0.3f\" % np.mean(scores))"
   ]
  },
  {
   "cell_type": "markdown",
   "id": "fac6bbb9-42b8-4eef-a0c4-dc59feff70d6",
   "metadata": {},
   "source": [
    "## Variance Feature"
   ]
  },
  {
   "cell_type": "code",
   "execution_count": 15,
   "id": "61c0faca-093a-4d7d-a634-e397cc2a09d2",
   "metadata": {},
   "outputs": [
    {
     "name": "stderr",
     "output_type": "stream",
     "text": [
      "100%|██████████| 327/327 [03:35<00:00,  1.52it/s]\n",
      "100%|██████████| 3106/3106 [00:00<00:00, 3488.89it/s]"
     ]
    },
    {
     "name": "stdout",
     "output_type": "stream",
     "text": [
      "X shape (S F): (3106, 64)\n",
      "Y counts: (array([0, 1]), array([1553, 1553]))\n"
     ]
    },
    {
     "name": "stderr",
     "output_type": "stream",
     "text": [
      "\n"
     ]
    }
   ],
   "source": [
    "x_params={\n",
    "    \"feature\": \"VarFreqPower\",\n",
    "    \"window\": -1,\n",
    "    \"prestim\": 1, \n",
    "    \"postim\": 2, \n",
    "}\n",
    "dataset.set_x_transformer(x_params)\n",
    "\n",
    "X = np.array(dataset[:][0]) # S T F\n",
    "y = np.array(dataset[:][1]) # S\n",
    "\n",
    "X = np.squeeze(np.transpose(X, (0,2,1)))\n",
    "print(\"X shape (S F):\", X.shape)\n",
    "print(\"Y counts:\", np.unique(y, return_counts=True))"
   ]
  },
  {
   "cell_type": "code",
   "execution_count": 16,
   "id": "77a3ddd9-b752-4532-ad65-f387c4075811",
   "metadata": {},
   "outputs": [
    {
     "name": "stdout",
     "output_type": "stream",
     "text": [
      "Var PCA-LDA accuracy: 0.546\n"
     ]
    }
   ],
   "source": [
    "pca = PCA(n_components=30)\n",
    "lda = LinearDiscriminantAnalysis()\n",
    "cv = StratifiedKFold(5, shuffle=True, random_state=42)\n",
    "clf = Pipeline([('PCA', pca), ('LDA', lda)])\n",
    "scores = cross_val_score(clf, X, y, cv=cv)\n",
    "\n",
    "print(\"Var PCA-LDA accuracy: %0.3f\" % np.mean(scores))"
   ]
  },
  {
   "cell_type": "code",
   "execution_count": null,
   "id": "bbf50b66-81a8-4507-a4ca-4370dcf048cc",
   "metadata": {},
   "outputs": [],
   "source": []
  },
  {
   "cell_type": "markdown",
   "id": "98cc93b3-7b41-44d7-8d1b-1738e1847c9c",
   "metadata": {},
   "source": [
    "## VGG Transform\n",
    "Explore impact of VGG feature transform (mean power feats + spatial projection)"
   ]
  },
  {
   "cell_type": "code",
   "execution_count": 6,
   "id": "e17aa16d-9949-43b8-a346-08bb934a0861",
   "metadata": {},
   "outputs": [],
   "source": [
    "import torch\n",
    "def vgg16_augment(model):\n",
    "    model.classifier = torch.nn.Sequential(*list(model.classifier.children())[:-3])"
   ]
  },
  {
   "cell_type": "code",
   "execution_count": 7,
   "id": "54e8af64-03dd-4dc0-8906-352da5c8e44d",
   "metadata": {},
   "outputs": [
    {
     "name": "stderr",
     "output_type": "stream",
     "text": [
      "100%|██████████| 327/327 [03:29<00:00,  1.56it/s]\n",
      "100%|██████████| 3106/3106 [13:28<00:00,  3.84it/s]"
     ]
    },
    {
     "name": "stdout",
     "output_type": "stream",
     "text": [
      "X shape (S F): (3106, 4096)\n",
      "Y counts: (array([0, 1]), array([1553, 1553]))\n"
     ]
    },
    {
     "name": "stderr",
     "output_type": "stream",
     "text": [
      "\n"
     ]
    }
   ],
   "source": [
    "x_params = {\n",
    "    \"feature\": \"TopomapNN\", \n",
    "    \"prestim\": 0.5, \n",
    "    \"postim\": 1.5, \n",
    "    \"window\": -1,\n",
    "    \"stride\": -1,\n",
    "    \"model\": \"vgg16\",\n",
    "    \"model_params\": {\n",
    "        \"weights\": \"DEFAULT\",\n",
    "    },\n",
    "    \"model_augment_fn\": vgg16_augment,\n",
    "}\n",
    "dataset.set_x_transformer(x_params)\n",
    "\n",
    "X = np.array(dataset[:][0]) # S T F\n",
    "y = np.array(dataset[:][1]) # S\n",
    "\n",
    "X = np.squeeze(np.transpose(X, (0,2,1)))\n",
    "print(\"X shape (S F):\", X.shape)\n",
    "print(\"Y counts:\", np.unique(y, return_counts=True))"
   ]
  },
  {
   "cell_type": "code",
   "execution_count": 8,
   "id": "f9795ca9-a7bd-47a3-aa61-bed6104609bd",
   "metadata": {},
   "outputs": [
    {
     "name": "stdout",
     "output_type": "stream",
     "text": [
      "VGG PCA-LDA accuracy: 0.512\n"
     ]
    }
   ],
   "source": [
    "pca = PCA(n_components=30)\n",
    "lda = LinearDiscriminantAnalysis()\n",
    "cv = StratifiedKFold(5, shuffle=True, random_state=42)\n",
    "clf = Pipeline([('PCA', pca), ('LDA', lda)])\n",
    "scores = cross_val_score(clf, X, y, cv=cv)\n",
    "\n",
    "print(\"VGG PCA-LDA accuracy: %0.3f\" % np.mean(scores))"
   ]
  },
  {
   "cell_type": "code",
   "execution_count": null,
   "id": "a2065a17-98f6-4bee-97a7-b49a3f68f45f",
   "metadata": {},
   "outputs": [],
   "source": []
  },
  {
   "cell_type": "code",
   "execution_count": 9,
   "id": "072c101d-de05-4a5f-96e9-2b3024a75d1d",
   "metadata": {},
   "outputs": [
    {
     "name": "stderr",
     "output_type": "stream",
     "text": [
      "100%|██████████| 327/327 [03:45<00:00,  1.45it/s]\n",
      "100%|██████████| 3106/3106 [08:12<00:00,  6.30it/s]"
     ]
    },
    {
     "name": "stdout",
     "output_type": "stream",
     "text": [
      "X shape (S F): (3106, 4096)\n",
      "Y counts: (array([0, 1]), array([1553, 1553]))\n"
     ]
    },
    {
     "name": "stderr",
     "output_type": "stream",
     "text": [
      "\n"
     ]
    }
   ],
   "source": [
    "x_params = {\n",
    "    \"feature\": \"TopomapNN\", \n",
    "    \"prestim\": 0.5, \n",
    "    \"postim\": 1.5, \n",
    "    \"window\": -1,\n",
    "    \"stride\": -1,\n",
    "    \"model\": \"alexnet\",\n",
    "    \"model_params\": {\n",
    "        \"weights\": \"DEFAULT\",\n",
    "    },\n",
    "    \"model_augment_fn\": vgg16_augment, # using same transform for alexnet\n",
    "}\n",
    "dataset.set_x_transformer(x_params)\n",
    "\n",
    "X = np.array(dataset[:][0]) # S T F\n",
    "y = np.array(dataset[:][1]) # S\n",
    "\n",
    "X = np.squeeze(np.transpose(X, (0,2,1)))\n",
    "print(\"X shape (S F):\", X.shape)\n",
    "print(\"Y counts:\", np.unique(y, return_counts=True))"
   ]
  },
  {
   "cell_type": "code",
   "execution_count": 10,
   "id": "90bff398-bd9e-43fc-9baf-1be114fb451d",
   "metadata": {},
   "outputs": [
    {
     "name": "stdout",
     "output_type": "stream",
     "text": [
      "AlexNet PCA-LDA accuracy: 0.490\n"
     ]
    }
   ],
   "source": [
    "pca = PCA(n_components=30)\n",
    "lda = LinearDiscriminantAnalysis()\n",
    "cv = StratifiedKFold(5, shuffle=True, random_state=42)\n",
    "clf = Pipeline([('PCA', pca), ('LDA', lda)])\n",
    "scores = cross_val_score(clf, X, y, cv=cv)\n",
    "\n",
    "print(\"AlexNet PCA-LDA accuracy: %0.3f\" % np.mean(scores))"
   ]
  },
  {
   "cell_type": "code",
   "execution_count": null,
   "id": "18ddfc25-16ac-411c-bbaa-a67067a0ae23",
   "metadata": {},
   "outputs": [],
   "source": []
  },
  {
   "cell_type": "code",
   "execution_count": 11,
   "id": "cbab42ec-ca8d-4a74-bb38-715424da7594",
   "metadata": {},
   "outputs": [
    {
     "name": "stderr",
     "output_type": "stream",
     "text": [
      "100%|██████████| 327/327 [03:32<00:00,  1.54it/s]\n",
      "100%|██████████| 3106/3106 [20:35<00:00,  2.51it/s] "
     ]
    },
    {
     "name": "stdout",
     "output_type": "stream",
     "text": [
      "X shape (S F): (3106, 1280)\n",
      "Y counts: (array([0, 1]), array([1553, 1553]))\n"
     ]
    },
    {
     "name": "stderr",
     "output_type": "stream",
     "text": [
      "\n"
     ]
    }
   ],
   "source": [
    "x_params = {\n",
    "    \"feature\": \"TopomapNN\", \n",
    "    \"prestim\": 0.5, \n",
    "    \"postim\": 1.5, \n",
    "    \"window\": -1,\n",
    "    \"stride\": -1,\n",
    "    \"model\": \"efficientnet_v2_l\",\n",
    "    \"model_params\": {\n",
    "        \"weights\": \"DEFAULT\",\n",
    "    },\n",
    "    \"model_augment_fn\": vgg16_augment, # using same transform for efficientnet\n",
    "}\n",
    "dataset.set_x_transformer(x_params)\n",
    "\n",
    "X = np.array(dataset[:][0]) # S T F\n",
    "y = np.array(dataset[:][1]) # S\n",
    "\n",
    "X = np.squeeze(np.transpose(X, (0,2,1)))\n",
    "print(\"X shape (S F):\", X.shape)\n",
    "print(\"Y counts:\", np.unique(y, return_counts=True))"
   ]
  },
  {
   "cell_type": "code",
   "execution_count": 12,
   "id": "6bf199c4-3ad0-4265-81ce-aea183ffd804",
   "metadata": {},
   "outputs": [
    {
     "name": "stdout",
     "output_type": "stream",
     "text": [
      "EfficientNet PCA-LDA accuracy: 0.502\n"
     ]
    }
   ],
   "source": [
    "pca = PCA(n_components=30)\n",
    "lda = LinearDiscriminantAnalysis()\n",
    "cv = StratifiedKFold(5, shuffle=True, random_state=42)\n",
    "clf = Pipeline([('PCA', pca), ('LDA', lda)])\n",
    "scores = cross_val_score(clf, X, y, cv=cv)\n",
    "\n",
    "print(\"EfficientNet PCA-LDA accuracy: %0.3f\" % np.mean(scores))"
   ]
  },
  {
   "cell_type": "code",
   "execution_count": null,
   "id": "bd09db5e-d1f0-4b38-b730-7275741950e5",
   "metadata": {},
   "outputs": [],
   "source": []
  }
 ],
 "metadata": {
  "kernelspec": {
   "display_name": "Python 3 (ipykernel)",
   "language": "python",
   "name": "python3"
  },
  "language_info": {
   "codemirror_mode": {
    "name": "ipython",
    "version": 3
   },
   "file_extension": ".py",
   "mimetype": "text/x-python",
   "name": "python",
   "nbconvert_exporter": "python",
   "pygments_lexer": "ipython3",
   "version": "3.10.8"
  }
 },
 "nbformat": 4,
 "nbformat_minor": 5
}
