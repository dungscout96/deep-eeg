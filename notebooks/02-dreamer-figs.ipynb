{
 "cells": [
  {
   "cell_type": "markdown",
   "id": "21977308-0e09-4135-a30b-ca9f0909c58a",
   "metadata": {},
   "source": [
    "# DREAMER Evaluation\n",
    "\n",
    "Using leave one subject out, evaluate EEG-only spectral power and topo-based features."
   ]
  },
  {
   "cell_type": "code",
   "execution_count": 1,
   "id": "b905a9dd-2870-4db3-a888-cc759d7ec72e",
   "metadata": {},
   "outputs": [],
   "source": [
    "import sys\n",
    "sys.path.insert(0, \"../\")\n",
    "save_prefix = \"dreamer\""
   ]
  },
  {
   "cell_type": "code",
   "execution_count": 2,
   "id": "ae1bc6b3-6fab-4b15-b031-a91310692924",
   "metadata": {},
   "outputs": [
    {
     "name": "stderr",
     "output_type": "stream",
     "text": [
      "Matplotlib created a temporary config/cache directory at /tmp/matplotlib-92983jje because the default path (/home/anp054/.config/matplotlib) is not a writable directory; it is highly recommended to set the MPLCONFIGDIR environment variable to a writable directory, in particular to speed up the import of Matplotlib and to better support multiprocessing.\n"
     ]
    }
   ],
   "source": [
    "import matplotlib.pyplot as plt\n",
    "import numpy as np\n",
    "import os, pickle\n",
    "from tqdm import tqdm\n",
    "from joblib import Parallel, delayed\n",
    "\n",
    "from libs.dataloaders import dreamer\n",
    "\n",
    "from sklearn.decomposition import PCA"
   ]
  },
  {
   "cell_type": "code",
   "execution_count": 3,
   "id": "db057dfd-919e-484c-bc4e-9796a747fdfe",
   "metadata": {},
   "outputs": [],
   "source": [
    "def per_subject_cv(dataset, subject_sessions:list, model:list, n_jobs=12):\n",
    "    \"\"\"\n",
    "    Run per subject validation using `model`\n",
    "    Notes:\n",
    "        - Does _not_ enforce train data balancing, but sets equal priors (assumes data is roughly balanced)\n",
    "        - Enforce test data; skip fold when per-label count < 3\n",
    "    @param dataset - DEAP dataset\n",
    "    @param list subject_sessions - subjects or sessions; used for LOO\n",
    "    @param fn model - model to use for training; this should be the class, not the instance\n",
    "    @param int n_jobs - number of parallel jobs to run\n",
    "    \"\"\"\n",
    "    dataset_seqs = len(dataset)\n",
    "    dataset_feats = np.prod(np.shape(dataset[0][0][0]))\n",
    "    pc_sweep_list = np.arange(1, min(dataset_seqs, dataset_feats+1))\n",
    "    \n",
    "    def _thread_worker(session, k_bootstrap, npc, X_train_pc, Y_train_vgg, X_test_pc, Y_test_vgg):\n",
    "        def default_return(msg=\"\"):\n",
    "            return (session, k_bootstrap, npc), msg\n",
    "\n",
    "        if len(Y_train_vgg) == 0 or len(Y_test_vgg) == 0:\n",
    "            return default_return(\"Skipping: Y train or Y test having no values\")\n",
    "        \n",
    "        unique_info = np.unique(Y_train_vgg, return_counts=True)\n",
    "        if len(unique_info[0]) != 2:\n",
    "            return default_return(f\"Skipping: exactly 2 classes not detected\")\n",
    "        if min(unique_info[-1]) < 3:\n",
    "            return default_return(\"Skipping: fewer than 3 samples per class detected\")\n",
    "\n",
    "        model_inst = model()\n",
    "        model_inst.fit(X_train_pc[:,:npc], Y_train_vgg)\n",
    "        model_train = model_inst.score(X_train_pc[:,:npc], Y_train_vgg)\n",
    "        model_test = model_inst.score(X_test_pc[:,:npc], Y_test_vgg)\n",
    "\n",
    "        return (session, k_bootstrap, npc), (pca.explained_variance_ratio_, model_train, model_test)\n",
    "\n",
    "    # Generate parameter set of parallelization\n",
    "    results = []\n",
    "    for session in tqdm(subject_sessions):\n",
    "        data_idx = [i for i in range(len(dataset)) if dataset.sessions[i] == session]\n",
    "        job_list = []\n",
    "        for k_bootstrap, test_idx in enumerate(tqdm(data_idx)):\n",
    "            train_idx = [i for i in data_idx if i != test_idx]\n",
    "            train_data = [dataset[i] for i in train_idx]\n",
    "            X_train_vgg = np.array([i[0].flatten() for i in train_data])\n",
    "            Y_train_vgg = np.squeeze([i[1] for i in train_data])*2-1 # rescale to -1, 1\n",
    "            X_test_vgg = np.array([dataset[test_idx][0].flatten(), ])\n",
    "            Y_test_vgg = np.array(dataset[test_idx][1])*2-1 # rescale to -1, 1\n",
    "            \n",
    "            if len(np.shape(Y_train_vgg)) == 0:\n",
    "                Y_train_vgg = np.expand_dims(Y_train_vgg, axis=0)\n",
    "            if len(np.shape(Y_test_vgg)) == 0:\n",
    "                Y_test_vgg = np.expand_dims(Y_test_vgg, axis=0)\n",
    "            \n",
    "            # Shuffle train\n",
    "            shuffle = np.random.permutation(np.arange(X_train_vgg.shape[0]))\n",
    "            X_train_vgg = X_train_vgg[shuffle]\n",
    "            Y_train_vgg = Y_train_vgg[shuffle]\n",
    "\n",
    "            # Fit PC\n",
    "            pca = PCA() # compute full pc\n",
    "            pca.fit(X_train_vgg)\n",
    "            X_train_pc = pca.transform(X_train_vgg)\n",
    "            X_test_pc = pca.transform(X_test_vgg)\n",
    "            \n",
    "            job_list.extend([\n",
    "                (session, k_bootstrap, npc, \n",
    "                    X_train_pc, Y_train_vgg, X_test_pc, Y_test_vgg,\n",
    "                ) for npc in pc_sweep_list])\n",
    "        \n",
    "        # Run model computations\n",
    "        # partial_results = [_thread_worker(*job) for job in tqdm(job_list)]\n",
    "        partial_results = Parallel(n_jobs=n_jobs, backend=\"threading\", verbose=1)(delayed(_thread_worker)(*job) for job in job_list)\n",
    "        results.extend(partial_results)\n",
    "\n",
    "    # Results objects\n",
    "    train_accs = np.empty((len(subject_sessions), len(pc_sweep_list), max(np.unique(dataset.sessions, return_counts=True)[1]))) # n_subjects -> n_pc -> bootstrap\n",
    "    train_accs[:] = np.nan\n",
    "    test_accs = train_accs.copy()\n",
    "    evs = np.empty((len(subject_sessions), max(pc_sweep_list))) # n_subjects -> max(pc_list)\n",
    "    evs[:] = np.nan\n",
    "\n",
    "    # Consolidate results\n",
    "    for n_session, session in enumerate(subject_sessions):\n",
    "        session_result = [i for i in results if i[0][0] == session]\n",
    "        max_npc = max(pc_sweep_list)\n",
    "        for n_npc, npc in enumerate(pc_sweep_list):\n",
    "            npc_result = [i for i in session_result if i[0][2] == npc]\n",
    "            for k_bootstrap in npc_result:\n",
    "                if type(k_bootstrap[1]) is not str:\n",
    "                    train_accs[n_session, n_npc, k_bootstrap[0][1]] = k_bootstrap[1][1]\n",
    "                    test_accs[n_session, n_npc, k_bootstrap[0][1]] = k_bootstrap[1][2]\n",
    "                    if npc == max_npc:\n",
    "                        # across bootstraps values should be near identical\n",
    "                        evs[n_session, :len(k_bootstrap[1][0])] = k_bootstrap[1][0]\n",
    "    \n",
    "    return train_accs, test_accs, evs"
   ]
  },
  {
   "cell_type": "code",
   "execution_count": 4,
   "id": "67786a78-85fa-47ee-ab8a-0ed555c61282",
   "metadata": {},
   "outputs": [],
   "source": [
    "class RandomProjection:\n",
    "    def __init__(self, n_components, center=0, scale=None):\n",
    "        self.n_components = n_components\n",
    "        self.projection_matrix = None\n",
    "        self._center = center\n",
    "        self._scale = scale\n",
    "\n",
    "    def fit(self, data):\n",
    "        if self._scale is None:\n",
    "            self._scale = 1 / np.sqrt(data.shape[1])\n",
    "        ## Approach 1\n",
    "        self.projection_matrix = np.random.normal(self._center, self._scale, (data.shape[1], self.n_components))\n",
    "        ## Approach 2\n",
    "        # self.projection_matrix = np.random.normal(self._center, self._scale, (data.shape[1]*self.n_components,))\n",
    "        # self.projection_matrix = np.reshape(self.projection_matrix, (data.shape[1], self.n_components))\n",
    "        ## Approach 3\n",
    "        # self.projection_matrix = np.zeros((data.shape[1]*self.n_components,))\n",
    "        # for i in range(0, len(self.projection_matrix), 64_000):\n",
    "        #     self.projection_matrix[i:i+64_000] = np.random.normal(self._center, self._scale, 64_000)\n",
    "        # mod = len(self.projection_matrix) % 64_000\n",
    "        # if mod > 0:\n",
    "        #     self.projection_matrix[-mod:] = np.random.normal(self._center, self._scale, mod)\n",
    "        # self.projection_matrix = np.reshape(self.projection_matrix, (data.shape[1], self.n_components))\n",
    "    \n",
    "    def transform(self, data):\n",
    "        return np.dot(data, self.projection_matrix)\n",
    "    \n",
    "    def fit_transform(self, data):\n",
    "        self.fit(data)\n",
    "        return self.transform(data)"
   ]
  },
  {
   "cell_type": "code",
   "execution_count": 5,
   "id": "dcd5466f-e37f-4e48-85f6-66352de6e668",
   "metadata": {},
   "outputs": [],
   "source": [
    "def per_subject_cv_rp_pc(dataset, subject_sessions:list, model:list, n_jobs=12, nrp=4096):\n",
    "    \"\"\"\n",
    "    Run leave one subject out cross-validation on data transformed by random projection and then projected using PCA\n",
    "    Notes:\n",
    "        - Does _not_ enforce train data balancing, but sets equal priors (assumes data is roughly balanced)\n",
    "        - Enforce test data; skip fold when per-label count < 3\n",
    "    @param dataset - DEAP dataset\n",
    "    @param list subject_sessions - subjects or sessions; used for LOO\n",
    "    @param fn model - model to use for training; this should be the class, not the instance\n",
    "    @param int n_jobs - number of parallel jobs to run\n",
    "    @param int nrp - Random Projection component dimensionality\n",
    "    \"\"\"\n",
    "    dataset_seqs = len(dataset)\n",
    "    dataset_feats = np.prod(np.shape(dataset[0][0][0]))\n",
    "    pc_sweep_list = np.arange(1, min(dataset_seqs, nrp))\n",
    "    \n",
    "    def _thread_worker(session, k_bootstrap, npc, X_train_pc, Y_train_vgg, X_test_pc, Y_test_vgg):\n",
    "        def default_return(msg=\"\"):\n",
    "            return (session, k_bootstrap, npc), msg\n",
    "\n",
    "        if len(Y_train_vgg) == 0 or len(Y_test_vgg) == 0:\n",
    "            return default_return(\"Skipping: Y train or Y test having no values\")\n",
    "        \n",
    "        unique_info = np.unique(Y_train_vgg, return_counts=True)\n",
    "        if len(unique_info[0]) != 2:\n",
    "            return default_return(f\"Skipping: exactly 2 classes not detected\")\n",
    "        if min(unique_info[-1]) < 3:\n",
    "            return default_return(\"Skipping: fewer than 3 samples per class detected\")\n",
    "\n",
    "        model_inst = model()\n",
    "        model_inst.fit(X_train_pc[:,:npc], Y_train_vgg)\n",
    "        model_train = model_inst.score(X_train_pc[:,:npc], Y_train_vgg)\n",
    "        model_test = model_inst.score(X_test_pc[:,:npc], Y_test_vgg)\n",
    "\n",
    "        return (session, k_bootstrap, npc), (pca.explained_variance_ratio_, model_train, model_test)\n",
    "\n",
    "    # Generate parameter set of parallelization\n",
    "    results = []\n",
    "    for session in tqdm(subject_sessions):\n",
    "        data_idx = [i for i in range(len(dataset)) if dataset.sessions[i] == session]\n",
    "        # Compute one random projection on all of the data and then permute the projection\n",
    "        # matrix itself. It takes ~25sec to generate one matrix when >1B samples.\n",
    "        # This doesn't leak test data as it is just ensuring the sampling dist is centered\n",
    "        rp_data = [dataset[i] for i in data_idx]\n",
    "        X_rp = np.array([i[0].flatten() for i in rp_data])\n",
    "        print(f\"Computing Random Projection Matrix ({X_rp.shape[1]}, {nrp})\")\n",
    "        projection = RandomProjection(n_components=nrp)\n",
    "        projection.fit(X_rp)\n",
    "\n",
    "        job_list = []\n",
    "        for k_bootstrap, test_idx in enumerate(tqdm(data_idx)):\n",
    "            train_idx = [i for i in data_idx if i != test_idx]\n",
    "            train_data = [dataset[i] for i in train_idx]\n",
    "            X_train_vgg = np.array([i[0].flatten() for i in train_data])\n",
    "            Y_train_vgg = np.squeeze([i[1] for i in train_data])*2-1 # rescale to -1, 1\n",
    "            X_test_vgg = np.array([dataset[test_idx][0].flatten(), ])\n",
    "            Y_test_vgg = np.array(dataset[test_idx][1])*2-1 # rescale to -1, 1\n",
    "            # compute new projection based on original sampling\n",
    "            np.random.shuffle(projection.projection_matrix) \n",
    "            X_train_rp = projection.transform(X_train_vgg)\n",
    "            X_test_rp = projection.transform(X_test_vgg)\n",
    "            \n",
    "            if len(np.shape(Y_train_vgg)) == 0:\n",
    "                Y_train_vgg = np.expand_dims(Y_train_vgg, axis=0)\n",
    "            if len(np.shape(Y_test_vgg)) == 0:\n",
    "                Y_test_vgg = np.expand_dims(Y_test_vgg, axis=0)\n",
    "            \n",
    "            # Shuffle train\n",
    "            shuffle = np.random.permutation(np.arange(X_train_rp.shape[0]))\n",
    "            X_train_rp = X_train_rp[shuffle]\n",
    "            Y_train_vgg = Y_train_vgg[shuffle]\n",
    "\n",
    "            # Fit PC\n",
    "            pca = PCA() # compute full pc\n",
    "            pca.fit(X_train_rp)\n",
    "            X_train_pc = pca.transform(X_train_rp)\n",
    "            X_test_pc = pca.transform(X_test_rp)\n",
    "            \n",
    "            job_list.extend([\n",
    "                (session, k_bootstrap, npc, \n",
    "                    X_train_pc, Y_train_vgg, X_test_pc, Y_test_vgg,\n",
    "                ) for npc in pc_sweep_list])\n",
    "        \n",
    "        # Run model computations\n",
    "        # partial_results = [_thread_worker(*job) for job in tqdm(job_list)]\n",
    "        partial_results = Parallel(n_jobs=n_jobs, backend=\"threading\", verbose=1)(delayed(_thread_worker)(*job) for job in job_list)\n",
    "        results.extend(partial_results)\n",
    "\n",
    "    # Results objects\n",
    "    train_accs = np.empty((len(subject_sessions), len(pc_sweep_list), max(np.unique(dataset.sessions, return_counts=True)[1]))) # n_subjects -> n_pc -> bootstrap\n",
    "    train_accs[:] = np.nan\n",
    "    test_accs = train_accs.copy()\n",
    "    evs = np.empty((len(subject_sessions), max(pc_sweep_list))) # n_subjects -> max(pc_list)\n",
    "    evs[:] = np.nan\n",
    "\n",
    "    # Consolidate results\n",
    "    for n_session, session in enumerate(subject_sessions):\n",
    "        session_result = [i for i in results if i[0][0] == session]\n",
    "        max_npc = max(pc_sweep_list)\n",
    "        for n_npc, npc in enumerate(pc_sweep_list):\n",
    "            npc_result = [i for i in session_result if i[0][2] == npc]\n",
    "            for k_bootstrap in npc_result:\n",
    "                if type(k_bootstrap[1]) is not str:\n",
    "                    train_accs[n_session, n_npc, k_bootstrap[0][1]] = k_bootstrap[1][1]\n",
    "                    test_accs[n_session, n_npc, k_bootstrap[0][1]] = k_bootstrap[1][2]\n",
    "                    if npc == max_npc:\n",
    "                        # across bootstraps values should be near identical\n",
    "                        evs[n_session, :len(k_bootstrap[1][0])] = k_bootstrap[1][0]\n",
    "    \n",
    "    return train_accs, test_accs, evs"
   ]
  },
  {
   "cell_type": "code",
   "execution_count": 6,
   "id": "73d0b0df-2b08-4c99-b87c-43b1289b9327",
   "metadata": {},
   "outputs": [],
   "source": [
    "def trainmax2test(train, test):\n",
    "    '''subject pc bootstrap -> subject bootstrap'''\n",
    "    ## Max with fewest nPC\n",
    "    # _train = np.nanmean(train, axis=2) # avg on bootstrap\n",
    "    # _train = np.nan_to_num(_train, nan=-1.) # hacky way to get around all nan argmax\n",
    "    # _argmax = np.argmax(_train, axis=1) # find max acc per pc\n",
    "    # return np.array([subj[_argmax[n_subj], :] for n_subj, subj in enumerate(test)])\n",
    "\n",
    "    ## Max with most nPC\n",
    "    # _train = np.nanmean(train, axis=2) # avg on bootstrap\n",
    "    # _train = np.nan_to_num(_train, nan=-1.) # hacky way to get around all nan argmax\n",
    "    # _train = np.flip(_train, axis=1)\n",
    "    # _argmax = np.argmax(_train, axis=1) # find max acc per pc\n",
    "    # _test = np.flip(test, axis=1)\n",
    "    # _test = np.array([subj[_argmax[n_subj], :] for n_subj, subj in enumerate(_test)])\n",
    "    # _test = np.flip(_test, axis=1)\n",
    "    # return _test\n",
    "\n",
    "    ## Max with most nPC\n",
    "    _train = np.nan_to_num(train, nan=-1.) # hacky way to get around all nan argmax\n",
    "    _train = np.flip(_train, axis=1)\n",
    "    _argmax = np.argmax(_train, axis=1) # find max acc per pc\n",
    "    _test = np.flip(test, axis=1)\n",
    "    return np.array([[k[_argmax[n_subj, n_k]] for n_k, k in enumerate(subj.T)] for n_subj, subj in enumerate(_test)])\n",
    "\n",
    "def plot_overview(train, test, ev, dataset=None, dataset_clip=10):\n",
    "    mdl_accs = trainmax2test(train, test)\n",
    "\n",
    "    if dataset is not None:\n",
    "        print(f\"Clipping datasets with fewer than {dataset_clip} samples...\")\n",
    "        valid_sessions_idx = np.argwhere(np.unique(dataset.sessions, return_counts=True)[1] >= 10).squeeze()\n",
    "    else:\n",
    "        valid_sessions_idx = np.arange(mdl_accs.shape[0])\n",
    "    \n",
    "    mdl_accs = mdl_accs[valid_sessions_idx,:]\n",
    "    mdl_means = np.nanmean(mdl_accs, axis=1) # avg on bootstrap\n",
    "    print(np.nanmean(mdl_means))\n",
    "    mdl_stderr = np.nanstd(mdl_accs, axis=1) / np.sqrt(np.count_nonzero(~np.isnan(mdl_accs), axis=1))\n",
    "    \n",
    "    plt.subplot(2,1,1)\n",
    "    plt.errorbar(np.arange(len(mdl_means)), mdl_means, yerr=mdl_stderr, color='k', ecolor=\"grey\")\n",
    "    plt.ylabel(\"Accuracy\")\n",
    "\n",
    "    plt.subplot(2,1,2)\n",
    "    plt.plot(np.cumsum(ev, axis=-1).T)\n",
    "    plt.xlabel(\"Subject\")\n",
    "    plt.ylabel(\"Exp Var\")\n",
    "    plt.show()"
   ]
  },
  {
   "cell_type": "code",
   "execution_count": 7,
   "id": "a9724d7b-9a18-4f84-9646-61ca8e7620dd",
   "metadata": {},
   "outputs": [],
   "source": [
    "import torch\n",
    "import torchvision.models as torchmodels\n",
    "def vgg16_augment(model):\n",
    "    model.classifier = torch.nn.Sequential(*list(model.classifier.children())[:-3])\n",
    "def inception_augment(model):\n",
    "    model = torch.nn.Sequential(*list(torchmodels.inception_v3(weights=\"DEFAULT\").children())[:-3])"
   ]
  },
  {
   "cell_type": "code",
   "execution_count": 8,
   "id": "d414a456-554a-478b-8b0c-71295912f8be",
   "metadata": {},
   "outputs": [],
   "source": [
    "from functools import partial\n",
    "from sklearn.discriminant_analysis import LinearDiscriminantAnalysis\n",
    "from sklearn.svm import SVC, LinearSVC\n",
    "\n",
    "lda = partial(LinearDiscriminantAnalysis, priors=[0.5, 0.5])\n",
    "linear_svm = partial(LinearSVC)\n",
    "nonlinear_svm = partial(SVC, kernel=\"rbf\")\n",
    "models = [lda, linear_svm, nonlinear_svm]\n",
    "reduced_models = [lda, ]"
   ]
  },
  {
   "cell_type": "markdown",
   "id": "17d3c8be-1676-4000-afbc-dcc9a3a792b2",
   "metadata": {},
   "source": [
    "## Average Spectral Power\n",
    "\n",
    "Here we are looking at the average spectral power of Theta, Alpha, and Beta per channel, concatenated together to form the feature vector. The results here are reported for a set of classifiers."
   ]
  },
  {
   "cell_type": "code",
   "execution_count": 9,
   "id": "5c7cb6e6-c56d-473d-88d5-7dd93822f4f4",
   "metadata": {
    "scrolled": true,
    "tags": []
   },
   "outputs": [
    {
     "name": "stderr",
     "output_type": "stream",
     "text": [
      "100%|██████████| 23/23 [00:40<00:00,  1.76s/it]\n"
     ]
    }
   ],
   "source": [
    "dataset = dreamer.DreamerDataset(\n",
    "    x_params={\n",
    "        \"feature\": \"AvgFreqPower\",\n",
    "    },\n",
    "    sessions=None,\n",
    "    y_mode='bimodal',\n",
    "    y_keys=['arousal'],\n",
    "    seed=49,\n",
    "    balanced=False,\n",
    ")\n",
    "subjects = list(np.unique(dataset.sessions))"
   ]
  },
  {
   "cell_type": "code",
   "execution_count": 10,
   "id": "7062fe6d-2da8-4b9a-91f3-0a13c72740d5",
   "metadata": {
    "scrolled": true,
    "tags": []
   },
   "outputs": [
    {
     "name": "stderr",
     "output_type": "stream",
     "text": [
      "  0%|          | 0/23 [00:00<?, ?it/s]\n",
      "100%|██████████| 13/13 [00:00<00:00, 970.01it/s]\n",
      "[Parallel(n_jobs=24)]: Using backend ThreadingBackend with 24 concurrent workers.\n",
      "[Parallel(n_jobs=24)]: Done   2 tasks      | elapsed:    0.0s\n",
      "[Parallel(n_jobs=24)]: Done 152 tasks      | elapsed:    0.6s\n",
      "[Parallel(n_jobs=24)]: Done 402 tasks      | elapsed:    1.4s\n",
      "[Parallel(n_jobs=24)]: Done 546 out of 546 | elapsed:    1.9s finished\n",
      "  4%|▍         | 1/23 [00:01<00:41,  1.90s/it]\n",
      "100%|██████████| 14/14 [00:00<00:00, 489.87it/s]\n",
      "[Parallel(n_jobs=24)]: Using backend ThreadingBackend with 24 concurrent workers.\n",
      "[Parallel(n_jobs=24)]: Done   2 tasks      | elapsed:    0.0s\n",
      "[Parallel(n_jobs=24)]: Done 152 tasks      | elapsed:    0.5s\n",
      "[Parallel(n_jobs=24)]: Done 402 tasks      | elapsed:    1.4s\n",
      "[Parallel(n_jobs=24)]: Done 588 out of 588 | elapsed:    1.9s finished\n",
      "  9%|▊         | 2/23 [00:03<00:40,  1.91s/it]\n",
      "100%|██████████| 10/10 [00:00<00:00, 589.49it/s]\n",
      "[Parallel(n_jobs=24)]: Using backend ThreadingBackend with 24 concurrent workers.\n",
      "[Parallel(n_jobs=24)]: Done   2 tasks      | elapsed:    0.0s\n",
      "[Parallel(n_jobs=24)]: Done 152 tasks      | elapsed:    0.0s\n",
      "[Parallel(n_jobs=24)]: Done 420 out of 420 | elapsed:    0.0s finished\n",
      "\n",
      "100%|██████████| 14/14 [00:00<00:00, 819.81it/s]\n",
      "[Parallel(n_jobs=24)]: Using backend ThreadingBackend with 24 concurrent workers.\n",
      "[Parallel(n_jobs=24)]: Done   2 tasks      | elapsed:    0.0s\n",
      "[Parallel(n_jobs=24)]: Done 152 tasks      | elapsed:    0.0s\n",
      "[Parallel(n_jobs=24)]: Done 402 tasks      | elapsed:    0.0s\n",
      "[Parallel(n_jobs=24)]: Done 588 out of 588 | elapsed:    0.1s finished\n",
      " 17%|█▋        | 4/23 [00:03<00:14,  1.32it/s]\n",
      "100%|██████████| 12/12 [00:00<00:00, 1031.43it/s]\n",
      "[Parallel(n_jobs=24)]: Using backend ThreadingBackend with 24 concurrent workers.\n",
      "[Parallel(n_jobs=24)]: Done   2 tasks      | elapsed:    0.0s\n",
      "[Parallel(n_jobs=24)]: Done 152 tasks      | elapsed:    0.4s\n",
      "[Parallel(n_jobs=24)]: Done 402 tasks      | elapsed:    1.1s\n",
      "[Parallel(n_jobs=24)]: Done 504 out of 504 | elapsed:    1.3s finished\n",
      " 22%|██▏       | 5/23 [00:05<00:16,  1.08it/s]\n",
      "100%|██████████| 12/12 [00:00<00:00, 932.46it/s]\n",
      "[Parallel(n_jobs=24)]: Using backend ThreadingBackend with 24 concurrent workers.\n",
      "[Parallel(n_jobs=24)]: Done   2 tasks      | elapsed:    0.0s\n",
      "[Parallel(n_jobs=24)]: Done 152 tasks      | elapsed:    0.3s\n",
      "[Parallel(n_jobs=24)]: Done 402 tasks      | elapsed:    0.9s\n",
      "[Parallel(n_jobs=24)]: Done 504 out of 504 | elapsed:    1.4s finished\n",
      " 26%|██▌       | 6/23 [00:06<00:18,  1.07s/it]\n",
      "100%|██████████| 9/9 [00:00<00:00, 403.97it/s]\n",
      "[Parallel(n_jobs=24)]: Using backend ThreadingBackend with 24 concurrent workers.\n",
      "[Parallel(n_jobs=24)]: Done   2 tasks      | elapsed:    0.0s\n",
      "[Parallel(n_jobs=24)]: Done 152 tasks      | elapsed:    0.0s\n",
      "[Parallel(n_jobs=24)]: Done 378 out of 378 | elapsed:    0.1s finished\n",
      "\n",
      "100%|██████████| 11/11 [00:00<00:00, 1184.77it/s]\n",
      "[Parallel(n_jobs=24)]: Using backend ThreadingBackend with 24 concurrent workers.\n",
      "[Parallel(n_jobs=24)]: Done   2 tasks      | elapsed:    0.0s\n",
      "[Parallel(n_jobs=24)]: Done 152 tasks      | elapsed:    0.4s\n",
      "[Parallel(n_jobs=24)]: Done 402 tasks      | elapsed:    1.5s\n",
      "[Parallel(n_jobs=24)]: Done 462 out of 462 | elapsed:    1.6s finished\n",
      " 35%|███▍      | 8/23 [00:08<00:14,  1.04it/s]\n",
      "100%|██████████| 15/15 [00:00<00:00, 492.94it/s]\n",
      "[Parallel(n_jobs=24)]: Using backend ThreadingBackend with 24 concurrent workers.\n",
      "[Parallel(n_jobs=24)]: Done   2 tasks      | elapsed:    0.0s\n",
      "[Parallel(n_jobs=24)]: Done 152 tasks      | elapsed:    0.6s\n",
      "[Parallel(n_jobs=24)]: Done 402 tasks      | elapsed:    1.7s\n",
      "[Parallel(n_jobs=24)]: Done 630 out of 630 | elapsed:    2.5s finished\n",
      " 39%|███▉      | 9/23 [00:10<00:19,  1.37s/it]\n",
      "100%|██████████| 11/11 [00:00<00:00, 987.70it/s]\n",
      "[Parallel(n_jobs=24)]: Using backend ThreadingBackend with 24 concurrent workers.\n",
      "[Parallel(n_jobs=24)]: Done   2 tasks      | elapsed:    0.0s\n",
      "[Parallel(n_jobs=24)]: Done 152 tasks      | elapsed:    0.6s\n",
      "[Parallel(n_jobs=24)]: Done 402 tasks      | elapsed:    1.8s\n",
      "[Parallel(n_jobs=24)]: Done 462 out of 462 | elapsed:    2.0s finished\n",
      " 43%|████▎     | 10/23 [00:12<00:20,  1.54s/it]\n",
      "100%|██████████| 15/15 [00:00<00:00, 494.58it/s]\n",
      "[Parallel(n_jobs=24)]: Using backend ThreadingBackend with 24 concurrent workers.\n",
      "[Parallel(n_jobs=24)]: Done   2 tasks      | elapsed:    0.0s\n",
      "[Parallel(n_jobs=24)]: Done 152 tasks      | elapsed:    0.7s\n",
      "[Parallel(n_jobs=24)]: Done 402 tasks      | elapsed:    1.9s\n",
      "[Parallel(n_jobs=24)]: Done 630 out of 630 | elapsed:    3.0s finished\n",
      " 48%|████▊     | 11/23 [00:16<00:23,  1.96s/it]\n",
      "100%|██████████| 13/13 [00:00<00:00, 503.31it/s]\n",
      "[Parallel(n_jobs=24)]: Using backend ThreadingBackend with 24 concurrent workers.\n",
      "[Parallel(n_jobs=24)]: Done   2 tasks      | elapsed:    0.0s\n",
      "[Parallel(n_jobs=24)]: Done 152 tasks      | elapsed:    0.4s\n",
      "[Parallel(n_jobs=24)]: Done 402 tasks      | elapsed:    1.2s\n",
      "[Parallel(n_jobs=24)]: Done 546 out of 546 | elapsed:    1.5s finished\n",
      " 52%|█████▏    | 12/23 [00:17<00:20,  1.84s/it]\n",
      "100%|██████████| 15/15 [00:00<00:00, 875.76it/s]\n",
      "[Parallel(n_jobs=24)]: Using backend ThreadingBackend with 24 concurrent workers.\n",
      "[Parallel(n_jobs=24)]: Done   2 tasks      | elapsed:    0.0s\n",
      "[Parallel(n_jobs=24)]: Done 152 tasks      | elapsed:    0.0s\n",
      "[Parallel(n_jobs=24)]: Done 402 tasks      | elapsed:    0.0s\n",
      "[Parallel(n_jobs=24)]: Done 630 out of 630 | elapsed:    0.1s finished\n",
      "\n",
      "100%|██████████| 11/11 [00:00<00:00, 1225.39it/s]\n",
      "[Parallel(n_jobs=24)]: Using backend ThreadingBackend with 24 concurrent workers.\n",
      "[Parallel(n_jobs=24)]: Done   2 tasks      | elapsed:    0.0s\n",
      "[Parallel(n_jobs=24)]: Done 152 tasks      | elapsed:    0.3s\n",
      "[Parallel(n_jobs=24)]: Done 402 tasks      | elapsed:    0.8s\n",
      "[Parallel(n_jobs=24)]: Done 462 out of 462 | elapsed:    0.9s finished\n",
      " 61%|██████    | 14/23 [00:18<00:11,  1.25s/it]\n",
      "100%|██████████| 15/15 [00:00<00:00, 1255.50it/s]\n",
      "[Parallel(n_jobs=24)]: Using backend ThreadingBackend with 24 concurrent workers.\n",
      "[Parallel(n_jobs=24)]: Done   2 tasks      | elapsed:    0.0s\n",
      "[Parallel(n_jobs=24)]: Done 152 tasks      | elapsed:    0.4s\n",
      "[Parallel(n_jobs=24)]: Done 402 tasks      | elapsed:    0.9s\n",
      "[Parallel(n_jobs=24)]: Done 630 out of 630 | elapsed:    1.5s finished\n",
      " 65%|██████▌   | 15/23 [00:20<00:10,  1.32s/it]\n",
      "100%|██████████| 16/16 [00:00<00:00, 480.97it/s]\n",
      "[Parallel(n_jobs=24)]: Using backend ThreadingBackend with 24 concurrent workers.\n",
      "[Parallel(n_jobs=24)]: Done   2 tasks      | elapsed:    0.0s\n",
      "[Parallel(n_jobs=24)]: Done 152 tasks      | elapsed:    0.4s\n",
      "[Parallel(n_jobs=24)]: Done 402 tasks      | elapsed:    0.9s\n",
      "[Parallel(n_jobs=24)]: Done 672 out of 672 | elapsed:    1.7s finished\n",
      " 70%|██████▉   | 16/23 [00:21<00:10,  1.44s/it]\n",
      "100%|██████████| 12/12 [00:00<00:00, 501.15it/s]\n",
      "[Parallel(n_jobs=24)]: Using backend ThreadingBackend with 24 concurrent workers.\n",
      "[Parallel(n_jobs=24)]: Done   2 tasks      | elapsed:    0.0s\n",
      "[Parallel(n_jobs=24)]: Done 152 tasks      | elapsed:    0.5s\n",
      "[Parallel(n_jobs=24)]: Done 402 tasks      | elapsed:    1.4s\n",
      "[Parallel(n_jobs=24)]: Done 504 out of 504 | elapsed:    1.8s finished\n",
      " 74%|███████▍  | 17/23 [00:23<00:09,  1.54s/it]\n",
      "100%|██████████| 13/13 [00:00<00:00, 477.18it/s]\n",
      "[Parallel(n_jobs=24)]: Using backend ThreadingBackend with 24 concurrent workers.\n",
      "[Parallel(n_jobs=24)]: Done   2 tasks      | elapsed:    0.0s\n",
      "[Parallel(n_jobs=24)]: Done 152 tasks      | elapsed:    0.5s\n",
      "[Parallel(n_jobs=24)]: Done 402 tasks      | elapsed:    1.5s\n",
      "[Parallel(n_jobs=24)]: Done 546 out of 546 | elapsed:    2.1s finished\n",
      " 78%|███████▊  | 18/23 [00:25<00:08,  1.71s/it]\n",
      "100%|██████████| 10/10 [00:00<00:00, 480.27it/s]\n",
      "[Parallel(n_jobs=24)]: Using backend ThreadingBackend with 24 concurrent workers.\n",
      "[Parallel(n_jobs=24)]: Done   2 tasks      | elapsed:    0.0s\n",
      "[Parallel(n_jobs=24)]: Done 152 tasks      | elapsed:    0.5s\n",
      "[Parallel(n_jobs=24)]: Done 420 out of 420 | elapsed:    1.5s finished\n",
      " 83%|████████▎ | 19/23 [00:27<00:06,  1.67s/it]\n",
      "100%|██████████| 14/14 [00:00<00:00, 459.48it/s]\n",
      "[Parallel(n_jobs=24)]: Using backend ThreadingBackend with 24 concurrent workers.\n",
      "[Parallel(n_jobs=24)]: Done   2 tasks      | elapsed:    0.0s\n",
      "[Parallel(n_jobs=24)]: Done 152 tasks      | elapsed:    0.6s\n",
      "[Parallel(n_jobs=24)]: Done 402 tasks      | elapsed:    1.4s\n",
      "[Parallel(n_jobs=24)]: Done 588 out of 588 | elapsed:    2.2s finished\n",
      " 87%|████████▋ | 20/23 [00:29<00:05,  1.82s/it]\n",
      "100%|██████████| 13/13 [00:00<00:00, 493.37it/s]\n",
      "[Parallel(n_jobs=24)]: Using backend ThreadingBackend with 24 concurrent workers.\n",
      "[Parallel(n_jobs=24)]: Done   2 tasks      | elapsed:    0.0s\n",
      "[Parallel(n_jobs=24)]: Done 152 tasks      | elapsed:    0.0s\n",
      "[Parallel(n_jobs=24)]: Done 402 tasks      | elapsed:    0.1s\n",
      "[Parallel(n_jobs=24)]: Done 546 out of 546 | elapsed:    0.1s finished\n",
      " 91%|█████████▏| 21/23 [00:29<00:02,  1.33s/it]\n",
      "100%|██████████| 13/13 [00:00<00:00, 923.43it/s]\n",
      "[Parallel(n_jobs=24)]: Using backend ThreadingBackend with 24 concurrent workers.\n",
      "[Parallel(n_jobs=24)]: Done   2 tasks      | elapsed:    0.0s\n",
      "[Parallel(n_jobs=24)]: Done 152 tasks      | elapsed:    0.5s\n",
      "[Parallel(n_jobs=24)]: Done 402 tasks      | elapsed:    1.3s\n",
      "[Parallel(n_jobs=24)]: Done 546 out of 546 | elapsed:    1.6s finished\n",
      " 96%|█████████▌| 22/23 [00:31<00:01,  1.41s/it]\n",
      "100%|██████████| 14/14 [00:00<00:00, 1267.22it/s]\n",
      "[Parallel(n_jobs=24)]: Using backend ThreadingBackend with 24 concurrent workers.\n",
      "[Parallel(n_jobs=24)]: Done   2 tasks      | elapsed:    0.0s\n",
      "[Parallel(n_jobs=24)]: Done 152 tasks      | elapsed:    0.5s\n",
      "[Parallel(n_jobs=24)]: Done 402 tasks      | elapsed:    1.7s\n",
      "[Parallel(n_jobs=24)]: Done 588 out of 588 | elapsed:    2.4s finished\n",
      "100%|██████████| 23/23 [00:33<00:00,  1.47s/it]\n"
     ]
    }
   ],
   "source": [
    "train_acc, acc, evs = per_subject_cv(dataset, subjects, lda, n_jobs=24)"
   ]
  },
  {
   "cell_type": "code",
   "execution_count": 11,
   "id": "7e481e85-5b8d-4253-a2b0-f60436d868a0",
   "metadata": {},
   "outputs": [],
   "source": [
    "with open(f\"{save_prefix}_result_avgfreqpwr.pkl\", \"wb\") as fout:\n",
    "    pickle.dump({\"acc\": acc, \n",
    "                 \"train_acc\": train_acc,\n",
    "                 \"ev\": evs}, fout)"
   ]
  },
  {
   "cell_type": "code",
   "execution_count": 11,
   "id": "0947edec-465f-41c9-bb19-0c187a10ff06",
   "metadata": {},
   "outputs": [
    {
     "data": {
      "text/plain": [
       "((23, 42, 16), (23, 42, 16), (23, 42))"
      ]
     },
     "execution_count": 11,
     "metadata": {},
     "output_type": "execute_result"
    }
   ],
   "source": [
    "acc.shape, train_acc.shape, evs.shape"
   ]
  },
  {
   "cell_type": "code",
   "execution_count": 12,
   "id": "f421fece-a7c1-4d10-bf33-af4d8f672572",
   "metadata": {},
   "outputs": [
    {
     "name": "stderr",
     "output_type": "stream",
     "text": [
      "/tmp/ipykernel_36741/1502069214.py:36: RuntimeWarning: Mean of empty slice\n",
      "  mdl_means = np.nanmean(mdl_accs, axis=1) # avg on bootstrap\n",
      "/opt/conda/lib/python3.10/site-packages/numpy/lib/nanfunctions.py:1878: RuntimeWarning: Degrees of freedom <= 0 for slice.\n",
      "  var = nanvar(a, axis=axis, dtype=dtype, out=out, ddof=ddof,\n"
     ]
    },
    {
     "name": "stdout",
     "output_type": "stream",
     "text": [
      "Clipping datasets with fewer than 10 samples...\n",
      "0.5289298664298664\n"
     ]
    },
    {
     "data": {
      "image/png": "[encoded data removed]",
      "text/plain": [
       "<Figure size 640x480 with 2 Axes>"
      ]
     },
     "metadata": {},
     "output_type": "display_data"
    }
   ],
   "source": [
    "plot_overview(train_acc, acc, evs, dataset, dataset_clip=10)"
   ]
  },
  {
   "cell_type": "code",
   "execution_count": null,
   "id": "5bd5b3e8-7ea2-4b85-ba4a-5c654702a219",
   "metadata": {},
   "outputs": [],
   "source": []
  },
  {
   "cell_type": "code",
   "execution_count": null,
   "id": "ad0c6843-7307-4da4-a136-47d28c8cf3c5",
   "metadata": {},
   "outputs": [],
   "source": []
  },
  {
   "cell_type": "code",
   "execution_count": 29,
   "id": "bd32f68f-4838-4383-9fd7-d983b857740b",
   "metadata": {},
   "outputs": [],
   "source": [
    "mdl_accs = trainmax2test(train_acc, acc)"
   ]
  },
  {
   "cell_type": "code",
   "execution_count": 40,
   "id": "631a6129-eb9c-4016-af08-2cd81dd21cdb",
   "metadata": {},
   "outputs": [
    {
     "data": {
      "text/plain": [
       "array([0.60869565, 0.43478261, 0.65217391, 0.52173913, 0.39130435,\n",
       "       0.52173913, 0.30434783, 0.47826087, 0.52173913, 0.7826087 ,\n",
       "       0.69565217, 0.47826087, 0.69565217, 0.56521739, 0.56521739,\n",
       "       0.56521739, 0.60869565, 0.47826087])"
      ]
     },
     "execution_count": 40,
     "metadata": {},
     "output_type": "execute_result"
    }
   ],
   "source": [
    "a = np.mean(mdl_accs, axis=0)\n",
    "np.mean(a)\n",
    "a"
   ]
  },
  {
   "cell_type": "code",
   "execution_count": 35,
   "id": "b74c0715-f5b9-45d3-8b3a-24aed1837250",
   "metadata": {},
   "outputs": [],
   "source": [
    "def reject_outliers(data, m=2):\n",
    "    return data[abs(data - np.mean(data)) < m * np.std(data)]"
   ]
  },
  {
   "cell_type": "code",
   "execution_count": 37,
   "id": "2e90ca3d-9f58-4409-87c1-3cf00a2cdf3b",
   "metadata": {},
   "outputs": [
    {
     "data": {
      "text/plain": [
       "0.5489130434782609"
      ]
     },
     "execution_count": 37,
     "metadata": {},
     "output_type": "execute_result"
    }
   ],
   "source": [
    "np.mean(reject_outliers(a))"
   ]
  },
  {
   "cell_type": "code",
   "execution_count": null,
   "id": "0802f019-478b-4ffe-9361-7fd7912faeb2",
   "metadata": {},
   "outputs": [],
   "source": []
  },
  {
   "cell_type": "code",
   "execution_count": null,
   "id": "e03cfbd2-46ff-4144-8f2e-6455c701ce75",
   "metadata": {},
   "outputs": [],
   "source": []
  },
  {
   "cell_type": "markdown",
   "id": "0bf061dc-9651-4db1-9115-1a6da62105a1",
   "metadata": {},
   "source": [
    "## Spectrogram Image Feature - VGG16"
   ]
  },
  {
   "cell_type": "code",
   "execution_count": null,
   "id": "dfdfcf3d-ba4f-4e64-b689-37207c63830d",
   "metadata": {
    "scrolled": true,
    "tags": []
   },
   "outputs": [],
   "source": [
    "dataset = dreamer.DreamerDataset(\n",
    "    x_params={\n",
    "        \"feature\": \"Spectrogram\", \n",
    "        \"model\": \"vgg16\",\n",
    "        \"model_params\": {\n",
    "            \"weights\": \"DEFAULT\",\n",
    "        },\n",
    "        \"model_augment_fn\": vgg16_augment,\n",
    "        \"window\": -1,\n",
    "        \"stride\": -1\n",
    "    },\n",
    "    sessions=None,\n",
    "    y_mode='split',\n",
    "    y_keys=['arousal'],\n",
    "    seed=49,\n",
    "    balanced=False,\n",
    ")\n",
    "subjects = list(np.unique(dataset.sessions))"
   ]
  },
  {
   "cell_type": "code",
   "execution_count": null,
   "id": "a5338c92-3f5b-4cb8-b4de-d9f0b25dd881",
   "metadata": {
    "scrolled": true,
    "tags": []
   },
   "outputs": [],
   "source": [
    "train_acc_specto, acc_specto, evs_specto = per_subject_cv(dataset, subjects, lda, n_jobs=64)"
   ]
  },
  {
   "cell_type": "code",
   "execution_count": null,
   "id": "7e31eddb-7887-466b-ba20-b587077db9b8",
   "metadata": {},
   "outputs": [],
   "source": [
    "with open(f\"{save_prefix}_result_specto_vgg16.pkl\", \"wb\") as fout:\n",
    "    pickle.dump({\"acc\": acc_specto, \n",
    "                 \"train_acc\": train_acc_specto, \n",
    "                 \"ev\": evs_specto}, fout)"
   ]
  },
  {
   "cell_type": "markdown",
   "id": "aba8a7e1-8692-4c36-b491-f0014feba526",
   "metadata": {},
   "source": [
    "### PCA(RP_4096(Spectogram))"
   ]
  },
  {
   "cell_type": "code",
   "execution_count": null,
   "id": "52cf959b-f7de-45ce-add3-11b546bcc903",
   "metadata": {
    "scrolled": true,
    "tags": []
   },
   "outputs": [],
   "source": [
    "train_acc_specto_rp_pc, acc_specto_rp_pc, ev_specto_rp_pc = \\\n",
    "    per_subject_cv_rp_pc(dataset, subjects, lda, n_jobs=24, nrp=4096)"
   ]
  },
  {
   "cell_type": "code",
   "execution_count": null,
   "id": "d698ceab-027f-47b7-8d1e-aedd7d246602",
   "metadata": {},
   "outputs": [],
   "source": [
    "with open(f\"{save_prefix}_result_specto_rp_pc.pkl\", \"wb\") as fout:\n",
    "    pickle.dump({\"acc\": acc_specto_rp_pc, \n",
    "                 \"train_acc\": train_acc_specto_rp_pc, \n",
    "                 \"ev\": ev_specto_rp_pc}, fout)"
   ]
  },
  {
   "cell_type": "code",
   "execution_count": null,
   "id": "6efd4788-2e73-4fd5-8355-91b28de81a72",
   "metadata": {},
   "outputs": [],
   "source": []
  },
  {
   "cell_type": "markdown",
   "id": "44f5dedb-ba22-4af9-89ec-9cde9aef546d",
   "metadata": {},
   "source": [
    "## Topo Features\n",
    "\n",
    "Following methods outlined [here](https://ieeexplore.ieee.org/abstract/document/8713896/), Theta, Alpha, Beta frequency filtered topo images are combined into the three color channels and fed through pretrained image processing model. The performance results are reported as `Feat_Model -> PCA -> Model` and `Feat_model -> Model` as a function of features (ordered by EV for PCA and bootstrapped otherwise)."
   ]
  },
  {
   "cell_type": "markdown",
   "id": "a370dc12-5e93-4450-ba1a-f22536e013d7",
   "metadata": {},
   "source": [
    "### VGG16"
   ]
  },
  {
   "cell_type": "code",
   "execution_count": null,
   "id": "e3872f0b-9945-46e0-9710-fe2a157a55a3",
   "metadata": {
    "scrolled": true,
    "tags": []
   },
   "outputs": [],
   "source": [
    "dataset = dreamer.DreamerDataset(\n",
    "    x_params={\n",
    "        \"feature\": \"TopomapNN\",\n",
    "        \"model\": \"vgg16\",\n",
    "        \"model_params\": {\n",
    "            \"weights\": \"DEFAULT\",\n",
    "        },\n",
    "        \"model_augment_fn\": vgg16_augment,\n",
    "    },\n",
    "    sessions=None,\n",
    "    y_mode='split',\n",
    "    y_keys=['arousal'],\n",
    "    seed=49,\n",
    "    balanced=False,\n",
    ")\n",
    "subjects = list(np.unique(dataset.sessions))"
   ]
  },
  {
   "cell_type": "code",
   "execution_count": null,
   "id": "fa88edeb-8cab-48d2-9a92-01ac2ded470c",
   "metadata": {
    "scrolled": true,
    "tags": []
   },
   "outputs": [],
   "source": [
    "train_acc_vgg, acc_vgg, evs_vgg = per_subject_cv(dataset, subjects, lda, n_jobs=24)"
   ]
  },
  {
   "cell_type": "code",
   "execution_count": null,
   "id": "82f5b1f0-3669-4dcd-95b2-0bb653736cf1",
   "metadata": {},
   "outputs": [],
   "source": [
    "with open(f\"{save_prefix}_result_vgg16.pkl\", \"wb\") as fout:\n",
    "    pickle.dump({\"acc\": acc_vgg, \n",
    "                 \"train_acc\": train_acc_vgg, \n",
    "                 \"ev\": evs_vgg, \"models\": reduced_models}, fout)"
   ]
  },
  {
   "cell_type": "code",
   "execution_count": null,
   "id": "ef35cd70-aece-4ece-bd6d-40ba50dbb576",
   "metadata": {},
   "outputs": [],
   "source": [
    "plot_overview(train_acc_vgg, acc_vgg, evs_vgg, dataset, dataset_clip=10)"
   ]
  },
  {
   "cell_type": "code",
   "execution_count": null,
   "id": "2eb33d68-b237-41af-b1fe-7a15a8c77145",
   "metadata": {},
   "outputs": [],
   "source": []
  },
  {
   "cell_type": "markdown",
   "id": "4b8002e4-0d1d-4db2-a2ac-ff5872df65e6",
   "metadata": {},
   "source": [
    "#### Strawman: Random Initialization\n",
    "Using the VGG16 model architecture, initialize the weights randomly to measure the impact of architecture versus out-of-distribution trained performance."
   ]
  },
  {
   "cell_type": "code",
   "execution_count": null,
   "id": "477e670f-a802-4bee-bc9e-555666c9c6ee",
   "metadata": {},
   "outputs": [],
   "source": [
    "dataset = dreamer.DreamerDataset(\n",
    "    x_params={\n",
    "        \"feature\": \"TopomapNN\",\n",
    "        \"model\": \"vgg16\",\n",
    "        \"model_params\": {\n",
    "            \"weights\": \"DEFAULT\",\n",
    "        },\n",
    "        \"model_augment_fn\": vgg16_augment,\n",
    "        \"random_weights\": {\n",
    "            \"mode\": \"rand_init\"\n",
    "        },\n",
    "    },\n",
    "    sessions=None,\n",
    "    y_mode='split',\n",
    "    y_keys=['arousal'],\n",
    "    seed=49,\n",
    "    balanced=False,\n",
    ")\n",
    "subjects = list(np.unique(dataset.sessions))"
   ]
  },
  {
   "cell_type": "code",
   "execution_count": null,
   "id": "5c2dab05-52ff-4b03-b596-369b0a9d2d53",
   "metadata": {
    "scrolled": true,
    "tags": []
   },
   "outputs": [],
   "source": [
    "train_acc_vgg_randinit, acc_vgg_randinit, evs_vgg_randinit = per_subject_cv(dataset, subjects, lda, n_jobs=64)"
   ]
  },
  {
   "cell_type": "code",
   "execution_count": null,
   "id": "6df6369f-78a8-48b5-a822-5c1f5a445727",
   "metadata": {},
   "outputs": [],
   "source": [
    "with open(f\"{save_prefix}_result_vgg16_straw_randinit.pkl\", \"wb\") as fout:\n",
    "    pickle.dump({\"acc\": acc_vgg_randinit, \n",
    "                 \"train_acc\": train_acc_vgg_randinit, \n",
    "                 \"ev\": evs_vgg_randinit, \"models\": reduced_models}, fout)"
   ]
  },
  {
   "cell_type": "code",
   "execution_count": null,
   "id": "2bcf0055-a728-4685-88ef-07dbb48c7fdb",
   "metadata": {},
   "outputs": [],
   "source": [
    "plot_overview(train_acc_vgg_randinit, acc_vgg_randinit, evs_vgg_randinit, dataset, dataset_clip=10)"
   ]
  },
  {
   "cell_type": "code",
   "execution_count": null,
   "id": "ad676401-218c-4285-b15c-48eb8a16a485",
   "metadata": {},
   "outputs": [],
   "source": []
  },
  {
   "cell_type": "markdown",
   "id": "c344c0e1-c6e5-461c-8445-b2824ab034f6",
   "metadata": {},
   "source": [
    "### AlexNet"
   ]
  },
  {
   "cell_type": "code",
   "execution_count": null,
   "id": "a5686943-9f66-4913-a9f6-997eae3808db",
   "metadata": {},
   "outputs": [],
   "source": [
    "dataset = dreamer.DreamerDataset(\n",
    "    x_params={\n",
    "        \"feature\": \"TopomapNN\",\n",
    "        \"model\": \"alexnet\",\n",
    "        \"model_params\": {\n",
    "            \"weights\": \"DEFAULT\",\n",
    "        },\n",
    "        \"model_augment_fn\": vgg16_augment, # using same transform for alexnet\n",
    "    },\n",
    "    sessions=None,\n",
    "    y_mode='split',\n",
    "    y_keys=['arousal'],\n",
    "    seed=49,\n",
    "    balanced=False,\n",
    ")\n",
    "subjects = list(np.unique(dataset.sessions))"
   ]
  },
  {
   "cell_type": "code",
   "execution_count": null,
   "id": "3d6ff122-1ae3-4908-89c9-c92b3d68e5f8",
   "metadata": {
    "scrolled": true,
    "tags": []
   },
   "outputs": [],
   "source": [
    "train_acc_alexnet, acc_alexnet, evs_alexnet = per_subject_cv(dataset, subjects, lda, n_jobs=64)"
   ]
  },
  {
   "cell_type": "code",
   "execution_count": null,
   "id": "67fb735c-5188-41e6-bd31-462930262213",
   "metadata": {},
   "outputs": [],
   "source": [
    "with open(f\"{save_prefix}_result_alexnet.pkl\", \"wb\") as fout:\n",
    "    pickle.dump({\"acc\": acc_alexnet, \n",
    "                 \"train_acc\": train_acc_alexnet,\n",
    "                 \"ev\": evs_alexnet, \"models\": reduced_models}, fout)"
   ]
  },
  {
   "cell_type": "code",
   "execution_count": null,
   "id": "9688c812-9976-4482-96fe-c62c25d80357",
   "metadata": {},
   "outputs": [],
   "source": [
    "plot_overview(train_acc_alexnet, acc_alexnet, evs_alexnet, dataset, dataset_clip=10)"
   ]
  },
  {
   "cell_type": "code",
   "execution_count": null,
   "id": "16854b5b-0892-40e1-8519-92af408d1065",
   "metadata": {},
   "outputs": [],
   "source": []
  },
  {
   "cell_type": "markdown",
   "id": "21caba4f-a353-4cfc-831e-082afc2ce1c5",
   "metadata": {},
   "source": [
    "#### Strawman: Random Initialization"
   ]
  },
  {
   "cell_type": "code",
   "execution_count": null,
   "id": "5acf6661-7166-4837-ac37-f78c7f7caf0e",
   "metadata": {},
   "outputs": [],
   "source": [
    "dataset = dreamer.DreamerDataset(\n",
    "    x_params={\n",
    "        \"feature\": \"TopomapNN\",\n",
    "        \"model\": \"alexnet\",\n",
    "        \"model_params\": {\n",
    "            \"weights\": \"DEFAULT\",\n",
    "        },\n",
    "        \"model_augment_fn\": vgg16_augment, # using same transform for alexnet\n",
    "        \"random_weights\": {\n",
    "            \"mode\": \"rand_init\"\n",
    "        },\n",
    "    },\n",
    "    sessions=None,\n",
    "    y_mode='split',\n",
    "    y_keys=['arousal'],\n",
    "    seed=49,\n",
    "    balanced=False,\n",
    ")\n",
    "subjects = list(np.unique(dataset.sessions))"
   ]
  },
  {
   "cell_type": "code",
   "execution_count": null,
   "id": "5ffa4602-9b0c-4f54-826a-ef7928179cfa",
   "metadata": {
    "scrolled": true,
    "tags": []
   },
   "outputs": [],
   "source": [
    "train_acc_alexnet_randinit, acc_alexnet_randinit, evs_alexnet_randinit = per_subject_cv(dataset, subjects, lda, n_jobs=64)"
   ]
  },
  {
   "cell_type": "code",
   "execution_count": null,
   "id": "dd2d06d0-4b60-4db6-ac18-4cdcb7289664",
   "metadata": {},
   "outputs": [],
   "source": [
    "with open(f\"{save_prefix}_result_alexnet_straw_randinit.pkl\", \"wb\") as fout:\n",
    "    pickle.dump({\"acc\": acc_alexnet_randinit, \n",
    "                 \"train_acc\": train_acc_alexnet_randinit,\n",
    "                 \"ev\": evs_alexnet_randinit, \"models\": reduced_models}, fout)"
   ]
  },
  {
   "cell_type": "code",
   "execution_count": null,
   "id": "2887e4a5-02ba-4ec9-92b3-e0f464b605ca",
   "metadata": {},
   "outputs": [],
   "source": [
    "plot_overview(train_acc_alexnet_randinit, acc_alexnet_randinit, evs_alexnet_randinit, dataset, dataset_clip=10)"
   ]
  },
  {
   "cell_type": "code",
   "execution_count": null,
   "id": "a6608113-bfeb-4b01-890a-8d5a273e3e61",
   "metadata": {},
   "outputs": [],
   "source": []
  },
  {
   "cell_type": "markdown",
   "id": "58d042a3-7435-42e8-bc3c-afa4ee409928",
   "metadata": {},
   "source": [
    "### InceptionNet v3"
   ]
  },
  {
   "cell_type": "code",
   "execution_count": null,
   "id": "a38b61c9-293f-4bd4-a25c-591c64bc807d",
   "metadata": {},
   "outputs": [],
   "source": [
    "dataset = dreamer.DreamerDataset(\n",
    "    x_params={\n",
    "        \"feature\": \"TopomapNN\",\n",
    "        \"model\": \"inception_v3\",\n",
    "        \"model_params\": {\n",
    "            \"weights\": \"DEFAULT\",\n",
    "        },\n",
    "        \"model_augment_fn\": inception_augment,\n",
    "    },\n",
    "    sessions=None,\n",
    "    y_mode='split',\n",
    "    y_keys=['arousal'],\n",
    "    seed=49,\n",
    "    balanced=False,\n",
    ")\n",
    "subjects = list(np.unique(dataset.sessions))"
   ]
  },
  {
   "cell_type": "code",
   "execution_count": null,
   "id": "66e09590-fc15-4031-9329-a7ac6965c128",
   "metadata": {
    "scrolled": true,
    "tags": []
   },
   "outputs": [],
   "source": [
    "train_acc_incepv3, acc_incepv3, evs_incepv3 = per_subject_cv(dataset, subjects, lda, n_jobs=64)"
   ]
  },
  {
   "cell_type": "code",
   "execution_count": null,
   "id": "b991b90d-2607-40ca-9637-5f9750364c05",
   "metadata": {},
   "outputs": [],
   "source": [
    "with open(f\"{save_prefix}_result_incepv3.pkl\", \"wb\") as fout:\n",
    "    pickle.dump({\"acc\": acc_incepv3, \n",
    "                 \"train_acc\": train_acc_incepv3,\n",
    "                 \"ev\": evs_incepv3, \"models\": reduced_models}, fout)"
   ]
  },
  {
   "cell_type": "code",
   "execution_count": null,
   "id": "081abb2b-5e78-4b37-ab63-6ecd67631e4f",
   "metadata": {},
   "outputs": [],
   "source": [
    "plot_overview(train_acc_incepv3, acc_incepv3, evs_incepv3, dataset, dataset_clip=10)"
   ]
  },
  {
   "cell_type": "code",
   "execution_count": null,
   "id": "04b99501-0543-4895-a634-76dc59bafe2d",
   "metadata": {},
   "outputs": [],
   "source": []
  },
  {
   "cell_type": "markdown",
   "id": "75db26c8-145e-4fc3-80c6-c23bc5135357",
   "metadata": {},
   "source": [
    "#### Strawman: Random Initialization"
   ]
  },
  {
   "cell_type": "code",
   "execution_count": null,
   "id": "baca8da4-11e2-4e75-9895-a0c501f685cf",
   "metadata": {
    "scrolled": true,
    "tags": []
   },
   "outputs": [],
   "source": [
    "dataset = dreamer.DreamerDataset(\n",
    "    x_params={\n",
    "        \"feature\": \"TopomapNN\",\n",
    "        \"model\": \"inception_v3\",\n",
    "        \"model_params\": {\n",
    "            \"weights\": \"DEFAULT\",\n",
    "        },\n",
    "        \"model_augment_fn\": inception_augment,\n",
    "        \"random_weights\": {\n",
    "            \"mode\": \"rand_init\"\n",
    "        },\n",
    "    },\n",
    "    sessions=None,\n",
    "    y_mode='split',\n",
    "    y_keys=['arousal'],\n",
    "    seed=49,\n",
    "    balanced=False,\n",
    ")\n",
    "subjects = list(np.unique(dataset.sessions))"
   ]
  },
  {
   "cell_type": "code",
   "execution_count": null,
   "id": "71e659e8-6a50-4beb-804f-315aba34cedd",
   "metadata": {
    "scrolled": true,
    "tags": []
   },
   "outputs": [],
   "source": [
    "train_acc_incepv3_randinit, acc_incepv3_randinit, evs_incepv3_randinit = per_subject_cv(dataset, subjects, lda, n_jobs=64)"
   ]
  },
  {
   "cell_type": "code",
   "execution_count": null,
   "id": "3794cd80-eb24-4792-97bb-afd00c508275",
   "metadata": {},
   "outputs": [],
   "source": [
    "with open(f\"{save_prefix}_result_incepv3_straw_randinit.pkl\", \"wb\") as fout:\n",
    "    pickle.dump({\"acc\": acc_incepv3_randinit,\n",
    "                 \"train_acc\": train_acc_incepv3_randinit,\n",
    "                 \"ev\": evs_incepv3_randinit, \"models\": reduced_models}, fout)"
   ]
  },
  {
   "cell_type": "code",
   "execution_count": null,
   "id": "73047853-89eb-40eb-bd96-6f02b159e0b6",
   "metadata": {},
   "outputs": [],
   "source": [
    "plot_overview(train_acc_incepv3_randinit, acc_incepv3_randinit, evs_incepv3_randinit, dataset, dataset_clip=10)"
   ]
  },
  {
   "cell_type": "code",
   "execution_count": null,
   "id": "73dd2657-5fce-4734-955b-8af53885d4df",
   "metadata": {},
   "outputs": [],
   "source": []
  },
  {
   "cell_type": "markdown",
   "id": "41519c85-046a-432e-8b9c-d2db73dc40f0",
   "metadata": {},
   "source": [
    "## Random Projections\n",
    "Here we explore whether deep feature transformers operate differently than high-dimensional random projections."
   ]
  },
  {
   "cell_type": "code",
   "execution_count": null,
   "id": "ae94197d-38cb-4036-9855-57304eed17c0",
   "metadata": {},
   "outputs": [],
   "source": [
    "class RandomProjection:\n",
    "    def __init__(self, n_components, center=0, scale=None):\n",
    "        self.n_components = n_components\n",
    "        self.projection_matrix = None\n",
    "        self._center = center\n",
    "        self._scale = scale\n",
    "\n",
    "    def fit(self, data):\n",
    "        if self._scale is None:\n",
    "            self._scale = 1 / np.sqrt(data.shape[1])\n",
    "        ## Approach 1\n",
    "        self.projection_matrix = np.random.normal(self._center, self._scale, (data.shape[1], self.n_components))\n",
    "        ## Approach 2\n",
    "        # self.projection_matrix = np.random.normal(self._center, self._scale, (data.shape[1]*self.n_components,))\n",
    "        # self.projection_matrix = np.reshape(self.projection_matrix, (data.shape[1], self.n_components))\n",
    "        ## Approach 3\n",
    "        # self.projection_matrix = np.zeros((data.shape[1]*self.n_components,))\n",
    "        # for i in range(0, len(self.projection_matrix), 64_000):\n",
    "        #     self.projection_matrix[i:i+64_000] = np.random.normal(self._center, self._scale, 64_000)\n",
    "        # mod = len(self.projection_matrix) % 64_000\n",
    "        # if mod > 0:\n",
    "        #     self.projection_matrix[-mod:] = np.random.normal(self._center, self._scale, mod)\n",
    "        # self.projection_matrix = np.reshape(self.projection_matrix, (data.shape[1], self.n_components))\n",
    "    \n",
    "    def transform(self, data):\n",
    "        return np.dot(data, self.projection_matrix)\n",
    "    \n",
    "    def fit_transform(self, data):\n",
    "        self.fit(data)\n",
    "        return self.transform(data)"
   ]
  },
  {
   "cell_type": "code",
   "execution_count": null,
   "id": "6c02cb19-2af7-4b50-bedd-38a2e75eb7fd",
   "metadata": {},
   "outputs": [],
   "source": [
    "def per_subject_cv_rp_pc(dataset, subject_sessions:list, model:list, n_jobs=12, nrp=4096):\n",
    "    \"\"\"\n",
    "    Run leave one subject out cross-validation on data transformed by random projection and then projected using PCA\n",
    "    Notes:\n",
    "        - Does _not_ enforce train data balancing, but sets equal priors (assumes data is roughly balanced)\n",
    "        - Enforce test data; skip fold when per-label count < 3\n",
    "    @param dataset - DEAP dataset\n",
    "    @param list subject_sessions - subjects or sessions; used for LOO\n",
    "    @param fn model - model to use for training; this should be the class, not the instance\n",
    "    @param int n_jobs - number of parallel jobs to run\n",
    "    @param int nrp - Random Projection component dimensionality\n",
    "    \"\"\"\n",
    "    dataset_seqs = len(dataset)\n",
    "    dataset_feats = np.prod(np.shape(dataset[0][0][0]))\n",
    "    pc_sweep_list = np.arange(1, min(dataset_seqs, nrp))\n",
    "    \n",
    "    def _thread_worker(session, k_bootstrap, npc, X_train_pc, Y_train_vgg, X_test_pc, Y_test_vgg):\n",
    "        def default_return(msg=\"\"):\n",
    "            return (session, k_bootstrap, npc), msg\n",
    "\n",
    "        if len(Y_train_vgg) == 0 or len(Y_test_vgg) == 0:\n",
    "            return default_return(\"Skipping: Y train or Y test having no values\")\n",
    "        \n",
    "        unique_info = np.unique(Y_train_vgg, return_counts=True)\n",
    "        if len(unique_info[0]) != 2:\n",
    "            return default_return(f\"Skipping: exactly 2 classes not detected\")\n",
    "        if min(unique_info[-1]) < 3:\n",
    "            return default_return(\"Skipping: fewer than 3 samples per class detected\")\n",
    "\n",
    "        model_inst = model()\n",
    "        model_inst.fit(X_train_pc[:,:npc], Y_train_vgg)\n",
    "        model_train = model_inst.score(X_train_pc[:,:npc], Y_train_vgg)\n",
    "        model_test = model_inst.score(X_test_pc[:,:npc], Y_test_vgg)\n",
    "\n",
    "        return (session, k_bootstrap, npc), (pca.explained_variance_ratio_, model_train, model_test)\n",
    "\n",
    "    # Generate parameter set of parallelization\n",
    "    results = []\n",
    "    for session in tqdm(subject_sessions):\n",
    "        data_idx = [i for i in range(len(dataset)) if dataset.sessions[i] == session]\n",
    "        # Compute one random projection on all of the data and then permute the projection\n",
    "        # matrix itself. It takes ~25sec to generate one matrix when >1B samples.\n",
    "        # This doesn't leak test data as it is just ensuring the sampling dist is centered\n",
    "        rp_data = [dataset[i] for i in data_idx]\n",
    "        X_rp = np.array([i[0].flatten() for i in rp_data])\n",
    "        print(f\"Computing Random Projection Matrix ({X_rp.shape[1]}, {nrp})\")\n",
    "        projection = RandomProjection(n_components=nrp)\n",
    "        projection.fit(X_rp)\n",
    "\n",
    "        job_list = []\n",
    "        for k_bootstrap, test_idx in enumerate(tqdm(data_idx)):\n",
    "            train_idx = [i for i in data_idx if i != test_idx]\n",
    "            train_data = [dataset[i] for i in train_idx]\n",
    "            X_train_vgg = np.array([i[0].flatten() for i in train_data])\n",
    "            Y_train_vgg = np.squeeze([i[1] for i in train_data])*2-1 # rescale to -1, 1\n",
    "            X_test_vgg = np.array([dataset[test_idx][0].flatten(), ])\n",
    "            Y_test_vgg = np.array(dataset[test_idx][1])*2-1 # rescale to -1, 1\n",
    "            # compute new projection based on original sampling\n",
    "            np.random.shuffle(projection.projection_matrix) \n",
    "            X_train_rp = projection.transform(X_train_vgg)\n",
    "            X_test_rp = projection.transform(X_test_vgg)\n",
    "            \n",
    "            if len(np.shape(Y_train_vgg)) == 0:\n",
    "                Y_train_vgg = np.expand_dims(Y_train_vgg, axis=0)\n",
    "            if len(np.shape(Y_test_vgg)) == 0:\n",
    "                Y_test_vgg = np.expand_dims(Y_test_vgg, axis=0)\n",
    "            \n",
    "            # Shuffle train\n",
    "            shuffle = np.random.permutation(np.arange(X_train_rp.shape[0]))\n",
    "            X_train_rp = X_train_rp[shuffle]\n",
    "            Y_train_vgg = Y_train_vgg[shuffle]\n",
    "\n",
    "            # Fit PC\n",
    "            pca = PCA() # compute full pc\n",
    "            pca.fit(X_train_rp)\n",
    "            X_train_pc = pca.transform(X_train_rp)\n",
    "            X_test_pc = pca.transform(X_test_rp)\n",
    "            \n",
    "            job_list.extend([\n",
    "                (session, k_bootstrap, npc, \n",
    "                    X_train_pc, Y_train_vgg, X_test_pc, Y_test_vgg,\n",
    "                ) for npc in pc_sweep_list])\n",
    "        \n",
    "        # Run model computations\n",
    "        # partial_results = [_thread_worker(*job) for job in tqdm(job_list)]\n",
    "        partial_results = Parallel(n_jobs=n_jobs, backend=\"threading\", verbose=1)(delayed(_thread_worker)(*job) for job in job_list)\n",
    "        results.extend(partial_results)\n",
    "\n",
    "    # Results objects\n",
    "    train_accs = np.empty((len(subject_sessions), len(pc_sweep_list), max(np.unique(dataset.sessions, return_counts=True)[1]))) # n_subjects -> n_pc -> bootstrap\n",
    "    train_accs[:] = np.nan\n",
    "    test_accs = train_accs.copy()\n",
    "    evs = np.empty((len(subject_sessions), max(pc_sweep_list))) # n_subjects -> max(pc_list)\n",
    "    evs[:] = np.nan\n",
    "\n",
    "    # Consolidate results\n",
    "    for n_session, session in enumerate(subject_sessions):\n",
    "        session_result = [i for i in results if i[0][0] == session]\n",
    "        max_npc = max(pc_sweep_list)\n",
    "        for n_npc, npc in enumerate(pc_sweep_list):\n",
    "            npc_result = [i for i in session_result if i[0][2] == npc]\n",
    "            for k_bootstrap in npc_result:\n",
    "                if type(k_bootstrap[1]) is not str:\n",
    "                    train_accs[n_session, n_npc, k_bootstrap[0][1]] = k_bootstrap[1][1]\n",
    "                    test_accs[n_session, n_npc, k_bootstrap[0][1]] = k_bootstrap[1][2]\n",
    "                    if npc == max_npc:\n",
    "                        # across bootstraps values should be near identical\n",
    "                        evs[n_session, :len(k_bootstrap[1][0])] = k_bootstrap[1][0]\n",
    "    \n",
    "    return train_accs, test_accs, evs"
   ]
  },
  {
   "cell_type": "code",
   "execution_count": null,
   "id": "515bc9cd-afa1-4e23-871d-4c7203bd8d4c",
   "metadata": {},
   "outputs": [],
   "source": [
    "dataset = dreamer.DreamerDataset(\n",
    "    x_params={\n",
    "        \"feature\": \"TopomapImg\",\n",
    "    },\n",
    "    sessions=None,\n",
    "    y_mode='split',\n",
    "    y_keys=['arousal'],\n",
    "    seed=49,\n",
    "    balanced=False,\n",
    ")\n",
    "subjects = list(np.unique(dataset.sessions))"
   ]
  },
  {
   "cell_type": "code",
   "execution_count": null,
   "id": "6c3675c2-3b16-40c6-8d76-7d135d83fbe1",
   "metadata": {},
   "outputs": [],
   "source": []
  },
  {
   "cell_type": "markdown",
   "id": "1a41f6d7-6a91-41a3-84c4-14b243c34b3b",
   "metadata": {
    "tags": []
   },
   "source": [
    "### PCA(RP_4096(Topo))"
   ]
  },
  {
   "cell_type": "code",
   "execution_count": null,
   "id": "f4220b4a-5dc9-4ff3-8ffd-5e434516d390",
   "metadata": {
    "scrolled": true,
    "tags": []
   },
   "outputs": [],
   "source": [
    "train_acc_rp_pc, acc_rp_pc, ev_rp_pc = \\\n",
    "    per_subject_cv_rp_pc(dataset, subjects, lda, n_jobs=24, nrp=4096)"
   ]
  },
  {
   "cell_type": "code",
   "execution_count": null,
   "id": "fd1c95ff-c047-4c74-94a7-080d16f4a213",
   "metadata": {},
   "outputs": [],
   "source": [
    "with open(f\"{save_prefix}_result_rp_pc.pkl\", \"wb\") as fout:\n",
    "    pickle.dump({\"acc\": acc_rp_pc, \n",
    "                 \"train_acc\": train_acc_rp_pc, \n",
    "                 \"ev\": ev_rp_pc, \"models\": reduced_models}, fout)"
   ]
  },
  {
   "cell_type": "code",
   "execution_count": null,
   "id": "88756562-b7f2-47a2-8b9d-7dfdaadda40e",
   "metadata": {},
   "outputs": [],
   "source": [
    "plot_overview(train_acc_rp_pc, acc_rp_pc, ev_rp_pc, dataset, dataset_clip=10)"
   ]
  },
  {
   "cell_type": "code",
   "execution_count": null,
   "id": "85f3d4dd-b5cd-44cc-9369-f5b5336e3b9c",
   "metadata": {},
   "outputs": [],
   "source": []
  },
  {
   "cell_type": "markdown",
   "id": "8e058451-3602-45ac-a3c3-fc204d214aa1",
   "metadata": {
    "tags": []
   },
   "source": [
    "### Strawman: PCA(Topo) without RP"
   ]
  },
  {
   "cell_type": "code",
   "execution_count": null,
   "id": "538fcb7a-086c-448f-9461-6a2387f2be31",
   "metadata": {
    "scrolled": true,
    "tags": []
   },
   "outputs": [],
   "source": [
    "train_acc_topo, acc_topo, ev_topo = per_subject_cv(dataset, subjects, lda, n_jobs=64)"
   ]
  },
  {
   "cell_type": "code",
   "execution_count": null,
   "id": "852ad044-ac91-4abf-ae52-6b4d08d25ffb",
   "metadata": {},
   "outputs": [],
   "source": [
    "with open(f\"{save_prefix}_result_topo.pkl\", \"wb\") as fout:\n",
    "    pickle.dump({\"acc\": acc_topo,\n",
    "                 \"train_acc\": train_acc_topo,\n",
    "                 \"ev\": ev_topo, \"models\": reduced_models}, fout)"
   ]
  },
  {
   "cell_type": "code",
   "execution_count": null,
   "id": "4a14669d-39c4-46d9-b481-c19ecd4459aa",
   "metadata": {},
   "outputs": [],
   "source": [
    "plot_overview(train_acc_topo, acc_topo, ev_topo, dataset, dataset_clip=10)"
   ]
  },
  {
   "cell_type": "code",
   "execution_count": null,
   "id": "c41545ae-9b2f-4835-9dfe-fae093be0110",
   "metadata": {},
   "outputs": [],
   "source": []
  },
  {
   "cell_type": "markdown",
   "id": "cef7b498-c0a8-4599-9fd6-78bc336acb7e",
   "metadata": {},
   "source": [
    "### PCA(RP_270000(AvgPwr))"
   ]
  },
  {
   "cell_type": "code",
   "execution_count": null,
   "id": "c1aa9a49-ed6b-4386-988b-3badb2e444e0",
   "metadata": {
    "scrolled": true,
    "tags": []
   },
   "outputs": [],
   "source": [
    "dataset = dreamer.DreamerDataset(\n",
    "    x_params={\n",
    "        \"feature\": \"AvgFreqPower\",\n",
    "    },\n",
    "    sessions=None,\n",
    "    y_mode='split',\n",
    "    y_keys=['arousal'],\n",
    "    seed=49,\n",
    "    balanced=False,\n",
    ")\n",
    "subjects = list(np.unique(dataset.sessions))"
   ]
  },
  {
   "cell_type": "code",
   "execution_count": null,
   "id": "72490140-a596-4e83-9ae8-4eeb57c0e5a2",
   "metadata": {
    "scrolled": true,
    "tags": []
   },
   "outputs": [],
   "source": [
    "train_acc_avgpwr_rp_pc, acc_avgpwr_rp_pc, ev_avgpwr_rp_pc = \\\n",
    "    per_subject_cv_rp_pc(dataset, subjects, lda, n_jobs=64, nrp=270000)"
   ]
  },
  {
   "cell_type": "code",
   "execution_count": null,
   "id": "c2103311-9f6c-4963-abd2-6dd02c9ba237",
   "metadata": {},
   "outputs": [],
   "source": [
    "with open(f\"{save_prefix}_result_avgfreqpwr_rp_pc.pkl\", \"wb\") as fout:\n",
    "    pickle.dump({\"acc\": acc_avgpwr_rp_pc,\n",
    "                 \"train_acc\": train_acc_avgpwr_rp_pc,\n",
    "                 \"ev\": ev_avgpwr_rp_pc, \"models\": reduced_models}, fout)"
   ]
  },
  {
   "cell_type": "code",
   "execution_count": null,
   "id": "caa3f0f4-fb14-4bc8-a00d-fdcbdfa705ea",
   "metadata": {},
   "outputs": [],
   "source": [
    "plot_overview(train_acc_avgpwr_rp_pc, acc_avgpwr_rp_pc, ev_avgpwr_rp_pc, dataset, dataset_clip=10)"
   ]
  },
  {
   "cell_type": "code",
   "execution_count": null,
   "id": "f3087dee-dc27-4fb0-8dc9-15469cea9450",
   "metadata": {},
   "outputs": [],
   "source": []
  },
  {
   "cell_type": "markdown",
   "id": "aac7c669-98c6-413e-b386-06fb7a254516",
   "metadata": {},
   "source": [
    "# Metrics\n",
    "\n",
    "The metrics here are shown aggregated by subject (stderr bars are on the subject variance). Subjects with fewer than 10 samples are excluded from calculations."
   ]
  },
  {
   "cell_type": "code",
   "execution_count": null,
   "id": "e443e647-7836-465a-8a47-ca18e97529b0",
   "metadata": {},
   "outputs": [],
   "source": [
    "import pickle\n",
    "from matplotlib import pyplot as plt\n",
    "import seaborn as sns"
   ]
  },
  {
   "cell_type": "markdown",
   "id": "86e37167-30ba-41bb-8a37-4a38b38d2d3a",
   "metadata": {},
   "source": [
    "## Standard vs DFT\n",
    "1. Are standard features comparable to deep feature transformer?"
   ]
  },
  {
   "cell_type": "code",
   "execution_count": null,
   "id": "7146d097-1e68-404c-a6c3-53ffa6691688",
   "metadata": {},
   "outputs": [],
   "source": [
    "with open(f'{save_prefix}_result_avgfreqpwr.pkl', 'rb') as fin:\n",
    "    d = pickle.load(fin)\n",
    "    res_std = d['acc'] # ch representation of deatures\n",
    "    res_train_std = d['train_acc'] # ch representation of deatures\n",
    "\n",
    "with open(f'{save_prefix}_result_topo.pkl', 'rb') as fin:\n",
    "    d = pickle.load(fin)\n",
    "    res_topo = d['acc'] # topo representation of features\n",
    "    res_train_topo = d['train_acc'] # topo representation of features\n",
    "\n",
    "with open(f'{save_prefix}_result_specto_vgg16.pkl', 'rb') as fin:\n",
    "    d = pickle.load(fin)\n",
    "    res_specto = d['acc'] # topo representation of features\n",
    "    res_train_specto = d['train_acc'] # topo representation of features\n",
    "\n",
    "with open(f'{save_prefix}_result_vgg16.pkl', 'rb') as fin:\n",
    "    d = pickle.load(fin)\n",
    "    res_vgg16_pt = d['acc'] # pretrained\n",
    "    res_train_vgg16_pt = d['train_acc'] # pretrained"
   ]
  },
  {
   "cell_type": "code",
   "execution_count": null,
   "id": "09d14141-f4fb-4a0f-8ba3-867dd68bbe43",
   "metadata": {},
   "outputs": [],
   "source": [
    "def gen_y(aggop_subj, session_mask=None):\n",
    "    y = np.array([\n",
    "        trainmax2test(res_train_std, res_std),\n",
    "        trainmax2test(res_train_topo, res_topo),\n",
    "        trainmax2test(res_train_specto, res_specto),\n",
    "        trainmax2test(res_train_vgg16_pt, res_vgg16_pt),\n",
    "    ]) # 4 -> Subjects -> Bootstrap\n",
    "    y = np.nanmean(y, axis=-1) # 4 -> Subjects\n",
    "\n",
    "    if session_mask is not None:\n",
    "        y = y[:, session_mask]\n",
    "    \n",
    "    means = aggop_subj(y, axis=-1)\n",
    "    stderrs = np.nanstd(y, axis=-1)/np.sqrt(np.count_nonzero(~np.isnan(y), axis=-1))\n",
    "    return means, stderrs\n",
    "\n",
    "valid_sessions_idx = np.argwhere(np.unique(dataset.sessions, return_counts=True)[1] >= 10).squeeze()\n",
    "y_mean, yerr_mean  = gen_y(np.nanmean, valid_sessions_idx)\n",
    "y_median, yerr_median  = gen_y(np.nanmedian, valid_sessions_idx)\n",
    "x = [\"AvgFreqPwr\", \"AvgFreqPwr Topo\", \"VGG16 Specto\", \"VGG16 Topo\"]"
   ]
  },
  {
   "cell_type": "code",
   "execution_count": null,
   "id": "e3940d54-c0f7-461e-badc-8d9142d444e5",
   "metadata": {},
   "outputs": [],
   "source": [
    "fig, ax = plt.subplots()\n",
    "ax.bar(np.arange(len(x)), y_mean, yerr=yerr_mean, align='center', alpha=0.5, ecolor='black', capsize=3)\n",
    "ax.set_xticks(np.arange(len(x)))\n",
    "ax.set_xticklabels(x)\n",
    "ax.set_title(\"Mean Standard vs DFT\")\n",
    "ax.set_ylabel(\"Accuracy\")\n",
    "plt.show()"
   ]
  },
  {
   "cell_type": "markdown",
   "id": "0f407eaa-5baa-4ba6-9f25-53484af0156a",
   "metadata": {},
   "source": [
    "## DFT architectures + Pretrained vs Random (Xe) weights\n",
    "1. Are there any differences between different DFT architectures\n",
    "2. Do pretrained models provide any benefit over randomly initialized architectures?"
   ]
  },
  {
   "cell_type": "code",
   "execution_count": null,
   "id": "1ea8f991-05c1-491d-8acb-03e39d458018",
   "metadata": {},
   "outputs": [],
   "source": [
    "with open(f'{save_prefix}_result_vgg16.pkl', 'rb') as fin:\n",
    "    d = pickle.load(fin)\n",
    "    res_vgg16_pt = d['acc'] # pretrained\n",
    "    res_train_vgg16_pt = d['train_acc'] # pretrained\n",
    "with open(f'{save_prefix}_result_vgg16_straw_randinit.pkl', 'rb') as fin:\n",
    "    d = pickle.load(fin)\n",
    "    res_vgg16_ri = d['acc'] # rand init\n",
    "    res_train_vgg16_ri = d['train_acc'] # rand init\n",
    "\n",
    "with open(f'{save_prefix}_result_alexnet.pkl', 'rb') as fin:\n",
    "    d = pickle.load(fin)\n",
    "    res_alexnet_pt = d['acc'] # pretrained\n",
    "    res_train_alexnet_pt = d['train_acc'] # pretrained\n",
    "with open(f'{save_prefix}_result_alexnet_straw_randinit.pkl', 'rb') as fin:\n",
    "    d = pickle.load(fin)\n",
    "    res_alexnet_ri = d['acc'] # rand init\n",
    "    res_train_alexnet_ri = d['train_acc'] # rand init\n",
    "\n",
    "with open(f'{save_prefix}_result_incepv3.pkl', 'rb') as fin:\n",
    "    d = pickle.load(fin)\n",
    "    res_incepv3_pt = d['acc'] # pretrained\n",
    "    res_train_incepv3_pt = d['train_acc'] # pretrained\n",
    "with open(f'{save_prefix}_result_incepv3_straw_randinit.pkl', 'rb') as fin:\n",
    "    d = pickle.load(fin)\n",
    "    res_incepv3_ri = d['acc'] # rand init\n",
    "    res_train_incepv3_ri = d['train_acc'] # rand init"
   ]
  },
  {
   "cell_type": "code",
   "execution_count": null,
   "id": "a0582fa6-02cc-42e2-868c-1df25c27a1ab",
   "metadata": {},
   "outputs": [],
   "source": [
    "def gen_y(aggop_subj, session_mask=None):\n",
    "    y = np.array([\n",
    "        trainmax2test(res_train_vgg16_pt, res_vgg16_pt),\n",
    "        trainmax2test(res_train_vgg16_ri, res_vgg16_ri),\n",
    "        trainmax2test(res_train_alexnet_pt, res_alexnet_pt),\n",
    "        trainmax2test(res_train_alexnet_ri, res_alexnet_ri),\n",
    "        trainmax2test(res_train_incepv3_pt, res_incepv3_pt),\n",
    "        trainmax2test(res_train_incepv3_ri, res_incepv3_ri),\n",
    "    ]) # 6 -> Subjects -> Bootstrap\n",
    "    y = np.nanmean(y, axis=-1) # 6 -> Subjects\n",
    "\n",
    "    if session_mask is not None:\n",
    "        y = y[:, session_mask]\n",
    "\n",
    "    means = aggop_subj(y, axis=-1)\n",
    "    stderrs = np.nanstd(y, axis=-1)/np.sqrt(np.count_nonzero(~np.isnan(y), axis=-1))\n",
    "    return means, stderrs\n",
    "\n",
    "valid_sessions_idx = np.argwhere(np.unique(dataset.sessions, return_counts=True)[1] >= 10).squeeze()\n",
    "y_mean, yerr_mean  = gen_y(np.nanmean, valid_sessions_idx)\n",
    "y_median, yerr_median  = gen_y(np.nanmedian, valid_sessions_idx)\n",
    "x = [\"VGG16\", \"VGG16 Rand\", \"AlexNet\", \"AlexNet Rand\", \"IncepV3\", \"IncepV3 Rand\"]"
   ]
  },
  {
   "cell_type": "code",
   "execution_count": null,
   "id": "b1f885b9-ff3a-4dad-a405-9dab3621ba7c",
   "metadata": {},
   "outputs": [],
   "source": [
    "fig, ax = plt.subplots()\n",
    "ax.bar(np.arange(len(x)), y_mean, yerr=yerr_mean, align='center', alpha=0.5, ecolor='black', capsize=3)\n",
    "ax.set_xticks(np.arange(len(x)))\n",
    "ax.set_xticklabels(x)\n",
    "ax.set_title(\"Mean Architecture Comparison\")\n",
    "ax.set_ylabel(\"Accuracy\")\n",
    "plt.show()"
   ]
  },
  {
   "cell_type": "markdown",
   "id": "50483345-6a70-46ee-b1be-2bff353a06ac",
   "metadata": {},
   "source": [
    "## Random Projections vs DFT"
   ]
  },
  {
   "cell_type": "code",
   "execution_count": null,
   "id": "8ebc663a-edb6-41ee-a879-053d0c426b43",
   "metadata": {},
   "outputs": [],
   "source": [
    "with open(f'{save_prefix}_result_rp_pc.pkl', 'rb') as fin:\n",
    "    d = pickle.load(fin)\n",
    "    res_rp = d['acc']\n",
    "    res_train_rp = d['train_acc']\n",
    "\n",
    "with open(f'{save_prefix}_result_avgfreqpwr_rp_pc.pkl', 'rb') as fin:\n",
    "    d = pickle.load(fin)\n",
    "    res_avgfreqpwr_rp_pc = d['acc']\n",
    "    res_train_avgfreqpwr_rp_pc = d['train_acc']\n",
    "\n",
    "with open(f'{save_prefix}_result_specto_rp_pc.pkl', 'rb') as fin:\n",
    "    d = pickle.load(fin)\n",
    "    res_specto_rp_pc = d['acc']\n",
    "    res_train_specto_rp_pc = d['train_acc']\n",
    "\n",
    "with open(f'{save_prefix}_result_vgg16.pkl', 'rb') as fin:\n",
    "    d = pickle.load(fin)\n",
    "    res_vgg16_pt = d['acc'] # pretrained\n",
    "    res_train_vgg16_pt = d['train_acc'] # pretrained"
   ]
  },
  {
   "cell_type": "code",
   "execution_count": null,
   "id": "da757532-40ee-4d6b-9d9d-73526e4a846d",
   "metadata": {},
   "outputs": [],
   "source": [
    "def gen_y(aggop_subj, session_mask=None):\n",
    "    y = np.array([\n",
    "        trainmax2test(res_train_rp, res_rp),\n",
    "        trainmax2test(res_train_avgfreqpwr_rp_pc, res_avgfreqpwr_rp_pc),\n",
    "        trainmax2test(res_train_specto_rp_pc, res_specto_rp_pc),\n",
    "        trainmax2test(res_train_vgg16_pt, res_vgg16_pt),\n",
    "    ]) # 4 -> Subjects -> Bootstrap\n",
    "    y = np.nanmean(y, axis=-1) # 4 -> Subjects\n",
    "\n",
    "    if session_mask is not None:\n",
    "        y = y[:, session_mask]\n",
    "\n",
    "    means = aggop_subj(y, axis=-1)\n",
    "    stderrs = np.nanstd(y, axis=-1)/np.sqrt(np.count_nonzero(~np.isnan(y), axis=-1))\n",
    "    return means, stderrs\n",
    "\n",
    "valid_sessions_idx = np.argwhere(np.unique(dataset.sessions, return_counts=True)[1] >= 10).squeeze()\n",
    "y_mean, yerr_mean  = gen_y(np.nanmean, valid_sessions_idx)\n",
    "y_median, yerr_median  = gen_y(np.nanmedian, valid_sessions_idx)\n",
    "x = [\"RP(Topo)\", \"RP(AvgFreq)\", \"RP(Specto)\", \"VGG16(Topo)\"]"
   ]
  },
  {
   "cell_type": "code",
   "execution_count": null,
   "id": "662416fc-6be4-4c6b-8160-a734d1b58118",
   "metadata": {},
   "outputs": [],
   "source": [
    "fig, ax = plt.subplots()\n",
    "ax.bar(np.arange(len(x)), y_mean, yerr=yerr_mean, align='center', alpha=0.5, ecolor='black', capsize=3)\n",
    "ax.set_xticks(np.arange(len(x)))\n",
    "ax.set_xticklabels(x)\n",
    "ax.set_title(\"Mean Architecture Comparison\")\n",
    "ax.set_ylabel(\"Accuracy\")\n",
    "plt.show()"
   ]
  },
  {
   "cell_type": "code",
   "execution_count": null,
   "id": "fe321691-0708-4508-8b77-cdb81f11f437",
   "metadata": {},
   "outputs": [],
   "source": []
  }
 ],
 "metadata": {
  "kernelspec": {
   "display_name": "Python 3 (ipykernel)",
   "language": "python",
   "name": "python3"
  },
  "language_info": {
   "codemirror_mode": {
    "name": "ipython",
    "version": 3
   },
   "file_extension": ".py",
   "mimetype": "text/x-python",
   "name": "python",
   "nbconvert_exporter": "python",
   "pygments_lexer": "ipython3",
   "version": "3.10.8"
  }
 },
 "nbformat": 4,
 "nbformat_minor": 5
}
