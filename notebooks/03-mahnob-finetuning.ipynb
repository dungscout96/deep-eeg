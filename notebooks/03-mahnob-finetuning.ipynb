{
 "cells": [
  {
   "cell_type": "code",
   "execution_count": 1,
   "id": "d87544fa-1ecc-4239-bfb8-b49aee079c80",
   "metadata": {},
   "outputs": [
    {
     "name": "stderr",
     "output_type": "stream",
     "text": [
      "Matplotlib created a temporary config/cache directory at /tmp/matplotlib-60ws1j6p because the default path (/home/dutruong/.config/matplotlib) is not a writable directory; it is highly recommended to set the MPLCONFIGDIR environment variable to a writable directory, in particular to speed up the import of Matplotlib and to better support multiprocessing.\n"
     ]
    }
   ],
   "source": [
    "import sys\n",
    "sys.path.insert(0, '..')\n",
    "from libs.dataloaders import mahnob\n",
    "from libs.models import finetuning\n",
    "import torch\n",
    "from torch.utils.data import DataLoader, random_split"
   ]
  },
  {
   "cell_type": "code",
   "execution_count": 6,
   "id": "f548d83d-ace4-47a1-b695-549c370793ef",
   "metadata": {},
   "outputs": [
    {
     "name": "stderr",
     "output_type": "stream",
     "text": [
      "100%|██████████| 526/526 [07:49<00:00,  1.12it/s]\n",
      "100%|██████████| 526/526 [01:28<00:00,  5.97it/s]\n"
     ]
    },
    {
     "name": "stdout",
     "output_type": "stream",
     "text": [
      "X shape: (318, 1, 300, 300, 3)\n",
      "Y shape: (318, 1)\n"
     ]
    }
   ],
   "source": [
    "dataset = mahnob.MahnobDataset(\n",
    "    x_params={\n",
    "        \"feature\": \"TopomapImg\",\n",
    "        \"window\": -1,\n",
    "        \"stride\": -1\n",
    "    },\n",
    "    n_sessions=None,\n",
    "    y_mode='bimodal',\n",
    "    y_keys=['feltVlnc'],\n",
    "    seed=49,\n",
    ")\n",
    "X = dataset[:][0]\n",
    "Y = dataset[:][1]\n",
    "print(\"X shape:\", X.shape)\n",
    "print(\"Y shape:\", Y.shape)"
   ]
  },
  {
   "cell_type": "code",
   "execution_count": 7,
   "id": "63d1a003-9cff-4315-aac5-dbf94d2bf21c",
   "metadata": {},
   "outputs": [],
   "source": [
    "target_model = finetuning.VGGFinetune(n_freezelayers=0.5)"
   ]
  },
  {
   "cell_type": "code",
   "execution_count": 8,
   "id": "6d30d09e-61fa-44c3-a7e3-b0995ccb784d",
   "metadata": {
    "tags": []
   },
   "outputs": [],
   "source": [
    "training_data, validation_data, test_data = random_split(dataset, [0.7, 0.2, 0.1])\n",
    "loader_train = DataLoader(training_data, batch_size = 16, shuffle = True)\n",
    "loader_val = DataLoader(validation_data, batch_size = len(validation_data), shuffle = True)\n",
    "loader_test = DataLoader(test_data, batch_size = len(test_data), shuffle = True)"
   ]
  },
  {
   "cell_type": "code",
   "execution_count": 9,
   "id": "e058f133-29b6-429e-94c1-d026b66012a5",
   "metadata": {
    "tags": []
   },
   "outputs": [
    {
     "name": "stdout",
     "output_type": "stream",
     "text": [
      "epoch 0:\n",
      "loss=1522015.961451837\n",
      "\n",
      "epoch 1:\n",
      "loss=140576.23367745537\n",
      "\n",
      "epoch 2:\n",
      "loss=377591.03180803574\n",
      "\n",
      "epoch 3:\n",
      "loss=399255.5625\n",
      "\n",
      "epoch 4:\n",
      "loss=23022.91080514022\n",
      "\n",
      "epoch 5:\n",
      "loss=873.8078390189579\n",
      "\n",
      "epoch 6:\n",
      "loss=0.9244113862514496\n",
      "\n",
      "epoch 7:\n",
      "loss=0.818590202501842\n",
      "\n",
      "epoch 8:\n",
      "loss=0.7710573332650321\n",
      "\n",
      "epoch 9:\n",
      "loss=0.7491652071475983\n",
      "\n",
      "epoch 10:\n",
      "loss=0.7476446330547333\n",
      "\n",
      "epoch 11:\n",
      "loss=0.7214844971895218\n",
      "\n",
      "epoch 12:\n",
      "loss=0.7008404518876757\n",
      "\n",
      "epoch 13:\n",
      "loss=0.7140138702733176\n",
      "\n",
      "epoch 14:\n",
      "loss=0.6993354856967926\n",
      "\n",
      "epoch 15:\n",
      "loss=0.7018901024545942\n",
      "\n",
      "epoch 16:\n",
      "loss=0.696654451744897\n",
      "\n",
      "epoch 17:\n",
      "loss=0.6967115998268127\n",
      "\n",
      "epoch 18:\n",
      "loss=0.7343988588878086\n",
      "\n",
      "epoch 19:\n",
      "loss=0.6875817051955632\n",
      "\n",
      "epoch 20:\n",
      "loss=0.6932557650974819\n",
      "\n",
      "epoch 21:\n",
      "loss=0.7008112285818372\n",
      "\n",
      "epoch 22:\n",
      "loss=0.6823384889534542\n",
      "\n",
      "epoch 23:\n",
      "loss=0.6800294859068734\n",
      "\n",
      "epoch 24:\n",
      "loss=0.7050842089312417\n",
      "\n",
      "epoch 25:\n",
      "loss=0.6985406662736621\n",
      "\n",
      "epoch 26:\n",
      "loss=0.6819131672382355\n",
      "\n",
      "epoch 27:\n",
      "loss=0.6924693499292646\n",
      "\n",
      "epoch 28:\n",
      "loss=0.688607075384685\n",
      "\n",
      "epoch 29:\n",
      "loss=0.6946868470736912\n",
      "\n"
     ]
    },
    {
     "ename": "KeyboardInterrupt",
     "evalue": "",
     "output_type": "error",
     "traceback": [
      "\u001b[0;31m---------------------------------------------------------------------------\u001b[0m",
      "\u001b[0;31mKeyboardInterrupt\u001b[0m                         Traceback (most recent call last)",
      "Cell \u001b[0;32mIn[9], line 3\u001b[0m\n\u001b[1;32m      1\u001b[0m \u001b[38;5;28;01mimport\u001b[39;00m \u001b[38;5;21;01mtime\u001b[39;00m\n\u001b[1;32m      2\u001b[0m start \u001b[38;5;241m=\u001b[39m time\u001b[38;5;241m.\u001b[39mtime()\n\u001b[0;32m----> 3\u001b[0m \u001b[43mtarget_model\u001b[49m\u001b[38;5;241;43m.\u001b[39;49m\u001b[43mtrain\u001b[49m\u001b[43m(\u001b[49m\u001b[43mloader_train\u001b[49m\u001b[43m)\u001b[49m\n\u001b[1;32m      4\u001b[0m \u001b[38;5;28mprint\u001b[39m(\u001b[38;5;124m'\u001b[39m\u001b[38;5;124mTraining time\u001b[39m\u001b[38;5;124m'\u001b[39m, time\u001b[38;5;241m.\u001b[39mtime()\u001b[38;5;241m-\u001b[39mstart)\n",
      "File \u001b[0;32m/home/jovyan/deep-eeg/notebooks/../libs/models/finetuning.py:89\u001b[0m, in \u001b[0;36mVGGFinetune.train\u001b[0;34m(self, loader_train, lr, optimizer, epochs, save_every, checkpoint_path, writer)\u001b[0m\n\u001b[1;32m     86\u001b[0m loss\u001b[38;5;241m.\u001b[39mbackward()\n\u001b[1;32m     87\u001b[0m optimizer\u001b[38;5;241m.\u001b[39mstep()\n\u001b[0;32m---> 89\u001b[0m epoch_loss \u001b[38;5;241m+\u001b[39m\u001b[38;5;241m=\u001b[39m \u001b[43mloss\u001b[49m\u001b[38;5;241;43m.\u001b[39;49m\u001b[43mitem\u001b[49m\u001b[43m(\u001b[49m\u001b[43m)\u001b[49m\n\u001b[1;32m     90\u001b[0m \u001b[38;5;28;01mif\u001b[39;00m writer:\n\u001b[1;32m     91\u001b[0m     writer\u001b[38;5;241m.\u001b[39madd_scalar(\u001b[38;5;124m\"\u001b[39m\u001b[38;5;124mLoss/train\u001b[39m\u001b[38;5;124m\"\u001b[39m, loss\u001b[38;5;241m.\u001b[39mitem(), t) \u001b[38;5;66;03m# batch step\u001b[39;00m\n",
      "\u001b[0;31mKeyboardInterrupt\u001b[0m: "
     ]
    }
   ],
   "source": [
    "import time\n",
    "start = time.time()\n",
    "target_model.train(loader_train)\n",
    "print('Training time', time.time()-start)"
   ]
  },
  {
   "cell_type": "code",
   "execution_count": 6,
   "id": "1487de77-ff64-4e19-9b6f-476c1d01c7fb",
   "metadata": {},
   "outputs": [
    {
     "name": "stdout",
     "output_type": "stream",
     "text": [
      "validation\n"
     ]
    },
    {
     "ename": "NameError",
     "evalue": "name 'loader_val' is not defined",
     "output_type": "error",
     "traceback": [
      "\u001b[0;31m---------------------------------------------------------------------------\u001b[0m",
      "\u001b[0;31mNameError\u001b[0m                                 Traceback (most recent call last)",
      "Cell \u001b[0;32mIn[6], line 4\u001b[0m\n\u001b[1;32m      1\u001b[0m target_model\u001b[38;5;241m.\u001b[39mmodel\u001b[38;5;241m.\u001b[39meval()\n\u001b[1;32m      3\u001b[0m \u001b[38;5;28mprint\u001b[39m(\u001b[38;5;124m'\u001b[39m\u001b[38;5;124mvalidation\u001b[39m\u001b[38;5;124m'\u001b[39m)\n\u001b[0;32m----> 4\u001b[0m \u001b[38;5;28;01mfor\u001b[39;00m t, (sample, label) \u001b[38;5;129;01min\u001b[39;00m \u001b[38;5;28menumerate\u001b[39m(\u001b[43mloader_val\u001b[49m):  \n\u001b[1;32m      5\u001b[0m     output \u001b[38;5;241m=\u001b[39m target_model(sample)\n\u001b[1;32m      6\u001b[0m     label \u001b[38;5;241m=\u001b[39m label\u001b[38;5;241m.\u001b[39mT\n",
      "\u001b[0;31mNameError\u001b[0m: name 'loader_val' is not defined"
     ]
    }
   ],
   "source": [
    "target_model.model.eval()\n",
    "\n",
    "print('validation')\n",
    "for t, (sample, label) in enumerate(loader_val):  \n",
    "    output = target_model(sample)\n",
    "    label = label.T\n",
    "    pred = torch.argmax(output,axis=1).cpu()\n",
    "    print('random', (torch.sum(label)/len(label[0])).numpy())\n",
    "    print('accuracy',(torch.sum(pred==label)/len(label[0])).numpy())\n",
    " \n",
    "print('test')\n",
    "for t, (sample, label) in enumerate(loader_test):  \n",
    "    output = target_model(sample)\n",
    "    label = label.T\n",
    "    pred = torch.argmax(output,axis=1).cpu()\n",
    "    print('random', (torch.sum(label)/len(label[0])).numpy())\n",
    "    print('accuracy',(torch.sum(pred==label)/len(label[0])).numpy())"
   ]
  },
  {
   "cell_type": "code",
   "execution_count": null,
   "id": "9a8bf53b-8d21-430c-bc12-ea0f87a899e1",
   "metadata": {},
   "outputs": [],
   "source": []
  }
 ],
 "metadata": {
  "kernelspec": {
   "display_name": "Python 3 (ipykernel)",
   "language": "python",
   "name": "python3"
  },
  "language_info": {
   "codemirror_mode": {
    "name": "ipython",
    "version": 3
   },
   "file_extension": ".py",
   "mimetype": "text/x-python",
   "name": "python",
   "nbconvert_exporter": "python",
   "pygments_lexer": "ipython3",
   "version": "3.10.8"
  }
 },
 "nbformat": 4,
 "nbformat_minor": 5
}
